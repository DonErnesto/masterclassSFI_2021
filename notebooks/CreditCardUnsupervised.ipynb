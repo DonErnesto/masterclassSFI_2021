{
 "cells": [
  {
   "cell_type": "markdown",
   "metadata": {},
   "source": [
    "<a href=\"https://colab.research.google.com/github/DonErnesto/masterclassSFI_2021/blob/main/notebooks/CreditCardUnsupervised.ipynb\" target=\"_parent\"><img src=\"https://colab.research.google.com/assets/colab-badge.svg\" alt=\"Open In Colab\"/></a>"
   ]
  },
  {
   "cell_type": "markdown",
   "metadata": {},
   "source": [
    "# Unsupervised Fraud Detection\n",
    "\n",
    "\n",
    "**Introduction**\n",
    "\n",
    "\n",
    "The purpose of this Jupyter notebook is to take you through several unsupervised outlier detection algorithms, and show their value for the purpose of fraud detection. The completely different approach compared to the supervised case, is that we assume we have insufficient labels to recognize fraud patterns, as is often the case in fraud detection as fraud events are typically very rare. In applying an outlier detection for fraud detection, we hypothesize that payment patterns that are \"untypical\" (outliers) are more likely to be fraudulent.  \n",
    "\n",
    "\n",
    "Generally, whenever an unsupervised approach is chosen, there are no labels available; neither for algorithm optimization, nor for comparison or validation. For this masterclass, we do use a labeled dataset, which will only be used at the very end, to get a feeling of how the various algorithms perform and compare. \n",
    "\n",
    "\n",
    "The data was taken from https://www.kaggle.com/mlg-ulb/creditcardfraud, and downsampled for the purpose of this masterclass. \n"
   ]
  },
  {
   "cell_type": "markdown",
   "metadata": {},
   "source": [
    "- Add also here the ROC and AP curves\n"
   ]
  },
  {
   "cell_type": "code",
   "execution_count": null,
   "metadata": {},
   "outputs": [],
   "source": []
  },
  {
   "cell_type": "code",
   "execution_count": 1,
   "metadata": {},
   "outputs": [],
   "source": [
    "## Data import from Github\n",
    "import os\n",
    "if not os.path.exists('X_unsupervised.csv.zip'):\n",
    "    !curl -O https://raw.githubusercontent.com/DonErnesto/masterclassSFI_2021/main/data/X_unsupervised.csv.zip"
   ]
  },
  {
   "cell_type": "markdown",
   "metadata": {},
   "source": [
    "We will be using the \"pandas\" package for data handling and manipulation, and later \"scikit-learn\" (imported with \"sklearn\") for various outlier detection algorithms. "
   ]
  },
  {
   "cell_type": "code",
   "execution_count": 2,
   "metadata": {},
   "outputs": [],
   "source": [
    "## Package import: pandas for data handling and manipulation\n",
    "import warnings\n",
    "warnings.filterwarnings(\"ignore\")\n",
    "import pandas as pd\n",
    "\n",
    "# A small hack: \"monkey-patching\" the DataFrame class to add column-wise normalization as a method\n",
    "def normalize_columns(self,):\n",
    "    return (self - self.mean()) / self.std()\n",
    "\n",
    "pd.DataFrame.normalize_columns = normalize_columns"
   ]
  },
  {
   "cell_type": "markdown",
   "metadata": {},
   "source": [
    "Next, we will load the data in a so-called DataFrame (a pandas object), and inspect it by plotting the N-top rows"
   ]
  },
  {
   "cell_type": "code",
   "execution_count": 3,
   "metadata": {},
   "outputs": [
    {
     "data": {
      "text/html": [
       "<div>\n",
       "<style scoped>\n",
       "    .dataframe tbody tr th:only-of-type {\n",
       "        vertical-align: middle;\n",
       "    }\n",
       "\n",
       "    .dataframe tbody tr th {\n",
       "        vertical-align: top;\n",
       "    }\n",
       "\n",
       "    .dataframe thead th {\n",
       "        text-align: right;\n",
       "    }\n",
       "</style>\n",
       "<table border=\"1\" class=\"dataframe\">\n",
       "  <thead>\n",
       "    <tr style=\"text-align: right;\">\n",
       "      <th></th>\n",
       "      <th>Time</th>\n",
       "      <th>V1</th>\n",
       "      <th>V2</th>\n",
       "      <th>V3</th>\n",
       "      <th>V4</th>\n",
       "      <th>V5</th>\n",
       "      <th>V6</th>\n",
       "      <th>V7</th>\n",
       "      <th>V8</th>\n",
       "      <th>V9</th>\n",
       "      <th>...</th>\n",
       "      <th>V20</th>\n",
       "      <th>V21</th>\n",
       "      <th>V22</th>\n",
       "      <th>V23</th>\n",
       "      <th>V24</th>\n",
       "      <th>V25</th>\n",
       "      <th>V26</th>\n",
       "      <th>V27</th>\n",
       "      <th>V28</th>\n",
       "      <th>Amount</th>\n",
       "    </tr>\n",
       "  </thead>\n",
       "  <tbody>\n",
       "    <tr>\n",
       "      <th>0</th>\n",
       "      <td>0.0</td>\n",
       "      <td>-0.7200</td>\n",
       "      <td>0.1262</td>\n",
       "      <td>-0.2262</td>\n",
       "      <td>-0.7573</td>\n",
       "      <td>0.2147</td>\n",
       "      <td>0.3516</td>\n",
       "      <td>1.4450</td>\n",
       "      <td>-0.6830</td>\n",
       "      <td>-0.5464</td>\n",
       "      <td>...</td>\n",
       "      <td>-0.0378</td>\n",
       "      <td>-0.3525</td>\n",
       "      <td>0.6494</td>\n",
       "      <td>-1.0810</td>\n",
       "      <td>-0.39230</td>\n",
       "      <td>-0.14340</td>\n",
       "      <td>-0.6920</td>\n",
       "      <td>0.8833</td>\n",
       "      <td>-0.210200</td>\n",
       "      <td>5.46</td>\n",
       "    </tr>\n",
       "    <tr>\n",
       "      <th>1</th>\n",
       "      <td>0.0</td>\n",
       "      <td>-1.4110</td>\n",
       "      <td>0.3550</td>\n",
       "      <td>-1.0470</td>\n",
       "      <td>0.9326</td>\n",
       "      <td>-1.4970</td>\n",
       "      <td>0.3967</td>\n",
       "      <td>-1.4750</td>\n",
       "      <td>1.0490</td>\n",
       "      <td>-1.7940</td>\n",
       "      <td>...</td>\n",
       "      <td>-0.4248</td>\n",
       "      <td>-0.3650</td>\n",
       "      <td>0.9517</td>\n",
       "      <td>0.5230</td>\n",
       "      <td>0.10830</td>\n",
       "      <td>-0.13880</td>\n",
       "      <td>2.5820</td>\n",
       "      <td>-0.3887</td>\n",
       "      <td>0.009520</td>\n",
       "      <td>52.53</td>\n",
       "    </tr>\n",
       "    <tr>\n",
       "      <th>2</th>\n",
       "      <td>1.0</td>\n",
       "      <td>0.4917</td>\n",
       "      <td>-1.4040</td>\n",
       "      <td>1.0270</td>\n",
       "      <td>0.9020</td>\n",
       "      <td>-0.7363</td>\n",
       "      <td>-0.3188</td>\n",
       "      <td>0.2524</td>\n",
       "      <td>-2.0230</td>\n",
       "      <td>0.4365</td>\n",
       "      <td>...</td>\n",
       "      <td>-1.0470</td>\n",
       "      <td>-0.7330</td>\n",
       "      <td>-0.1733</td>\n",
       "      <td>1.0900</td>\n",
       "      <td>0.56400</td>\n",
       "      <td>-0.55700</td>\n",
       "      <td>-0.0928</td>\n",
       "      <td>1.5810</td>\n",
       "      <td>-0.005043</td>\n",
       "      <td>22.48</td>\n",
       "    </tr>\n",
       "    <tr>\n",
       "      <th>3</th>\n",
       "      <td>1.0</td>\n",
       "      <td>-1.2430</td>\n",
       "      <td>0.2893</td>\n",
       "      <td>-0.7030</td>\n",
       "      <td>0.7340</td>\n",
       "      <td>-0.1942</td>\n",
       "      <td>0.4436</td>\n",
       "      <td>0.3428</td>\n",
       "      <td>-0.1865</td>\n",
       "      <td>-0.1589</td>\n",
       "      <td>...</td>\n",
       "      <td>-2.2770</td>\n",
       "      <td>0.4973</td>\n",
       "      <td>0.7670</td>\n",
       "      <td>-0.3362</td>\n",
       "      <td>-0.00434</td>\n",
       "      <td>0.02498</td>\n",
       "      <td>0.7993</td>\n",
       "      <td>0.4668</td>\n",
       "      <td>0.074460</td>\n",
       "      <td>15.00</td>\n",
       "    </tr>\n",
       "    <tr>\n",
       "      <th>4</th>\n",
       "      <td>2.0</td>\n",
       "      <td>0.2642</td>\n",
       "      <td>0.7010</td>\n",
       "      <td>1.5230</td>\n",
       "      <td>-1.4570</td>\n",
       "      <td>-0.3555</td>\n",
       "      <td>1.1720</td>\n",
       "      <td>-0.7266</td>\n",
       "      <td>-1.4990</td>\n",
       "      <td>-0.5590</td>\n",
       "      <td>...</td>\n",
       "      <td>-1.3620</td>\n",
       "      <td>0.5350</td>\n",
       "      <td>-2.4450</td>\n",
       "      <td>1.5910</td>\n",
       "      <td>0.87200</td>\n",
       "      <td>-0.67870</td>\n",
       "      <td>0.9653</td>\n",
       "      <td>0.1272</td>\n",
       "      <td>0.132400</td>\n",
       "      <td>237.00</td>\n",
       "    </tr>\n",
       "  </tbody>\n",
       "</table>\n",
       "<p>5 rows × 30 columns</p>\n",
       "</div>"
      ],
      "text/plain": [
       "   Time      V1      V2      V3      V4      V5      V6      V7      V8  \\\n",
       "0   0.0 -0.7200  0.1262 -0.2262 -0.7573  0.2147  0.3516  1.4450 -0.6830   \n",
       "1   0.0 -1.4110  0.3550 -1.0470  0.9326 -1.4970  0.3967 -1.4750  1.0490   \n",
       "2   1.0  0.4917 -1.4040  1.0270  0.9020 -0.7363 -0.3188  0.2524 -2.0230   \n",
       "3   1.0 -1.2430  0.2893 -0.7030  0.7340 -0.1942  0.4436  0.3428 -0.1865   \n",
       "4   2.0  0.2642  0.7010  1.5230 -1.4570 -0.3555  1.1720 -0.7266 -1.4990   \n",
       "\n",
       "       V9  ...     V20     V21     V22     V23      V24      V25     V26  \\\n",
       "0 -0.5464  ... -0.0378 -0.3525  0.6494 -1.0810 -0.39230 -0.14340 -0.6920   \n",
       "1 -1.7940  ... -0.4248 -0.3650  0.9517  0.5230  0.10830 -0.13880  2.5820   \n",
       "2  0.4365  ... -1.0470 -0.7330 -0.1733  1.0900  0.56400 -0.55700 -0.0928   \n",
       "3 -0.1589  ... -2.2770  0.4973  0.7670 -0.3362 -0.00434  0.02498  0.7993   \n",
       "4 -0.5590  ... -1.3620  0.5350 -2.4450  1.5910  0.87200 -0.67870  0.9653   \n",
       "\n",
       "      V27       V28  Amount  \n",
       "0  0.8833 -0.210200    5.46  \n",
       "1 -0.3887  0.009520   52.53  \n",
       "2  1.5810 -0.005043   22.48  \n",
       "3  0.4668  0.074460   15.00  \n",
       "4  0.1272  0.132400  237.00  \n",
       "\n",
       "[5 rows x 30 columns]"
      ]
     },
     "execution_count": 3,
     "metadata": {},
     "output_type": "execute_result"
    }
   ],
   "source": [
    "X = pd.read_csv('X_unsupervised.csv.zip')\n",
    "# .head() returns a DataFrame, that consists of the first N (default: N=5) rows \n",
    "# of the DataFrame it is applied on\n",
    "X.head() "
   ]
  },
  {
   "cell_type": "markdown",
   "metadata": {},
   "source": [
    "The data describes credit card transactions, one transaction per row. \n",
    "\n",
    "As you may notice, all features are numeric. All Vx features are the result of a mathematical operation called PCA. In reality, we have to deal often with non-numerical (for instance, categorical data), that requires some effort to make it numerical and suitable for the mathematical models we work with. \n",
    "\n",
    "The pre-fabricated data thus saves us considerable time. \n",
    "\n",
    "Let us first determine the dimensions of the DataFrame (note that the first dimension goes along the rows, the second along columns):"
   ]
  },
  {
   "cell_type": "markdown",
   "metadata": {},
   "source": [
    "## Assignment: Defining a homemade outlier score\n",
    "\n",
    "Generate an array with outlier scores based on your own hand-made logic. Store the outlier predictions in a pandas Series with the name \"homemade_outlier_scores\", using the examples below. \n"
   ]
  },
  {
   "cell_type": "markdown",
   "metadata": {},
   "source": [
    "**Question:**\n",
    "\n",
    "Below, there are several options to create a hand-crafted outlier score. \n",
    "\n",
    "Which one would you chose, and why? Uncomment your preference, to assign the outcome to the variable 'homemade_outlier_scores'. If you see a better solution, you are free to implement that. \n",
    "\n",
    "The various methods that are used on the DataFrame are:\n",
    "- .abs() This method converts all values to their absolute (and does not change the size of the DataFrame)\n",
    "- .drop(columns=...) This method returns the DataFrame with the indicated columns (may be a string or a list of strings) removed\n",
    "- .max(axis=1) This method, when executed with axis=1, sums over all columns\n",
    "- .mean(axis=1) "
   ]
  },
  {
   "cell_type": "code",
   "execution_count": null,
   "metadata": {},
   "outputs": [],
   "source": []
  },
  {
   "cell_type": "code",
   "execution_count": 4,
   "metadata": {},
   "outputs": [],
   "source": [
    "# Some examples to make an outlier score below. Uncomment (remove the \"#\") to execute it.\n",
    "\n",
    "# homemade_outlier_scores = X.drop(columns='Time').abs().max(axis=1)\n",
    "# homemade_outlier_scores = (X.normalize_columns()**2).mean(axis=1)\n",
    "# homemade_outlier_scores = X['Amount']\n",
    "# homemade_outlier_scores = X.drop(columns='Time').abs().max(axis=1) # .drop() returns the cropped dataframe\n",
    "\n"
   ]
  },
  {
   "cell_type": "code",
   "execution_count": 5,
   "metadata": {},
   "outputs": [],
   "source": [
    "# To verify the shape, add .shape to the dataframe and look at the output. What shape should it be?\n",
    "# homemade_outlier_scores.shape"
   ]
  },
  {
   "cell_type": "markdown",
   "metadata": {},
   "source": [
    "# Outlier algorithms\n",
    "\n",
    "Go to the section of the outlier algorithm assigned to you or chosen by you to generate your scores. \n",
    "First run the cell below for important imports, and to get rid of the \"Time\" column. \n"
   ]
  },
  {
   "cell_type": "code",
   "execution_count": 6,
   "metadata": {},
   "outputs": [
    {
     "name": "stdout",
     "output_type": "stream",
     "text": [
      "Requirement already satisfied: pyod in /Users/ernstoldenhof/opt/anaconda3/lib/python3.7/site-packages (0.8.8)\n",
      "Requirement already satisfied: scikit-learn>=0.19.1 in /Users/ernstoldenhof/opt/anaconda3/lib/python3.7/site-packages (from pyod) (0.22.1)\n",
      "Requirement already satisfied: scipy>=0.19.1 in /Users/ernstoldenhof/opt/anaconda3/lib/python3.7/site-packages (from pyod) (1.4.1)\n",
      "Requirement already satisfied: joblib in /Users/ernstoldenhof/opt/anaconda3/lib/python3.7/site-packages (from pyod) (0.14.1)\n",
      "Requirement already satisfied: matplotlib in /Users/ernstoldenhof/opt/anaconda3/lib/python3.7/site-packages (from pyod) (3.1.3)\n",
      "Requirement already satisfied: numba>=0.35 in /Users/ernstoldenhof/opt/anaconda3/lib/python3.7/site-packages (from pyod) (0.48.0)\n",
      "Requirement already satisfied: pandas>=0.25 in /Users/ernstoldenhof/opt/anaconda3/lib/python3.7/site-packages (from pyod) (1.0.1)\n",
      "Requirement already satisfied: numpy>=1.13 in /Users/ernstoldenhof/opt/anaconda3/lib/python3.7/site-packages (from pyod) (1.19.5)\n",
      "Requirement already satisfied: statsmodels in /Users/ernstoldenhof/opt/anaconda3/lib/python3.7/site-packages (from pyod) (0.11.0)\n",
      "Requirement already satisfied: six in /Users/ernstoldenhof/opt/anaconda3/lib/python3.7/site-packages (from pyod) (1.15.0)\n",
      "Requirement already satisfied: llvmlite<0.32.0,>=0.31.0dev0 in /Users/ernstoldenhof/opt/anaconda3/lib/python3.7/site-packages (from numba>=0.35->pyod) (0.31.0)\n",
      "Requirement already satisfied: setuptools in /Users/ernstoldenhof/opt/anaconda3/lib/python3.7/site-packages (from numba>=0.35->pyod) (46.0.0.post20200309)\n",
      "Requirement already satisfied: pytz>=2017.2 in /Users/ernstoldenhof/opt/anaconda3/lib/python3.7/site-packages (from pandas>=0.25->pyod) (2019.3)\n",
      "Requirement already satisfied: python-dateutil>=2.6.1 in /Users/ernstoldenhof/opt/anaconda3/lib/python3.7/site-packages (from pandas>=0.25->pyod) (2.8.1)\n",
      "Requirement already satisfied: kiwisolver>=1.0.1 in /Users/ernstoldenhof/opt/anaconda3/lib/python3.7/site-packages (from matplotlib->pyod) (1.1.0)\n",
      "Requirement already satisfied: cycler>=0.10 in /Users/ernstoldenhof/opt/anaconda3/lib/python3.7/site-packages (from matplotlib->pyod) (0.10.0)\n",
      "Requirement already satisfied: pyparsing!=2.0.4,!=2.1.2,!=2.1.6,>=2.0.1 in /Users/ernstoldenhof/opt/anaconda3/lib/python3.7/site-packages (from matplotlib->pyod) (2.4.6)\n",
      "Requirement already satisfied: patsy>=0.5 in /Users/ernstoldenhof/opt/anaconda3/lib/python3.7/site-packages (from statsmodels->pyod) (0.5.1)\n",
      "\u001b[33mWARNING: You are using pip version 21.0.1; however, version 21.1.3 is available.\n",
      "You should consider upgrading via the '/Users/ernstoldenhof/opt/anaconda3/bin/python -m pip install --upgrade pip' command.\u001b[0m\n"
     ]
    }
   ],
   "source": [
    "# from sklearn.neighbors import LocalOutlierFactor\n",
    "# !pip install seaborn==0.11.1 # Needed for plotting\n",
    "# !pip install tensorflow\n",
    "!pip install pyod\n",
    "import numpy as np\n",
    "from sklearn.covariance import EmpiricalCovariance\n",
    "from sklearn.neighbors import NearestNeighbors\n",
    "from sklearn.ensemble import IsolationForest\n",
    "from sklearn.mixture import GaussianMixture\n",
    "from pyod.models.auto_encoder import AutoEncoder\n",
    "from sklearn.preprocessing import MinMaxScaler\n",
    "\n",
    "X = X.drop(columns='Time')"
   ]
  },
  {
   "cell_type": "markdown",
   "metadata": {},
   "source": [
    "## Mahalanobis Distance\n",
    "\n",
    "The Mahalanobis distance is a generalization of distance (measured in standard deviations) to a multivariate normal distribution. The assumption being made is thus that the data is normally distributed, and that outliers are located further away than most of the inliers. \n",
    "\n",
    "In the cells below: \n",
    "- Create an EmpiricalCovariance object with the correct parameters (find out which ones)\n",
    "- Fit the data to this model\n",
    "- Assign the scores to \"mah_outlier_scores\", using the method \"mahalanobis\"\n",
    "\n",
    "Can the outcome of this method be directly used as an outlier score?"
   ]
  },
  {
   "cell_type": "code",
   "execution_count": 7,
   "metadata": {},
   "outputs": [],
   "source": [
    "?EmpiricalCovariance"
   ]
  },
  {
   "cell_type": "code",
   "execution_count": 8,
   "metadata": {},
   "outputs": [],
   "source": [
    "cov = EmpiricalCovariance()\n",
    "cov.fit(X)\n",
    "mah_outlier_scores = cov.mahalanobis(X)"
   ]
  },
  {
   "cell_type": "markdown",
   "metadata": {},
   "source": [
    "**Question**: in which situation is the Mahalonobis-distance equal to do a simple, column-wise mean of squared values? "
   ]
  },
  {
   "cell_type": "markdown",
   "metadata": {},
   "source": [
    "## Gaussian Mixture\n",
    "\n",
    "The Gaussian Mixture assumes the data consists of one or multiple \"blobs\" of clusters with some normal distribution (NB: with a co-variance matrix constrained to be spherical, diagonal or non-constrained - full). \n",
    "After fitting, the method .score_samples() returns some probability measure (probability density of the point within the gaussian mixture distribution). \n",
    "\n",
    "In the cells below, \n",
    "\n",
    "- Create a GaussianMixture object with sensible parameters \n",
    "- Fit the object to the data\n",
    "- Get scores for the individual data points using .score_samples() "
   ]
  },
  {
   "cell_type": "code",
   "execution_count": 9,
   "metadata": {},
   "outputs": [],
   "source": [
    "?GaussianMixture"
   ]
  },
  {
   "cell_type": "code",
   "execution_count": 10,
   "metadata": {},
   "outputs": [
    {
     "data": {
      "text/plain": [
       "GaussianMixture(covariance_type='full', init_params='kmeans', max_iter=100,\n",
       "                means_init=None, n_components=5, n_init=1, precisions_init=None,\n",
       "                random_state=1, reg_covar=1e-06, tol=0.001, verbose=0,\n",
       "                verbose_interval=10, warm_start=False, weights_init=None)"
      ]
     },
     "execution_count": 10,
     "metadata": {},
     "output_type": "execute_result"
    }
   ],
   "source": [
    "gmm = GaussianMixture(n_components=5, covariance_type='full', random_state=1) \n",
    "gmm.fit(X)"
   ]
  },
  {
   "cell_type": "code",
   "execution_count": 11,
   "metadata": {},
   "outputs": [],
   "source": [
    "gmm_scores = gmm.score_samples(X)"
   ]
  },
  {
   "cell_type": "code",
   "execution_count": 12,
   "metadata": {},
   "outputs": [],
   "source": [
    "?GaussianMixture"
   ]
  },
  {
   "cell_type": "markdown",
   "metadata": {},
   "source": [
    "**Question**: The .score_samples method returns a probability. Can the scores be used as they are or do they need to be modified? Reflect this in your calculation. "
   ]
  },
  {
   "cell_type": "markdown",
   "metadata": {},
   "source": [
    "## Nearest neighbours\n",
    "\n",
    "The family ofnearest neighbours-based algorithms looks at the immediate \"neighbour\" in terms of nearest points. \n",
    "If a point is far-removed from its neighbours, it may be considered untypical. The distance may however be determined in several different ways. \n",
    "\n",
    "In the cells below: \n",
    "- Create an EmpiricalCovariance object with the correct parameters (find out which ones)\n",
    "- Fit the data to this model\n",
    "- Assign the scores to \"mah_outlier_scores\", using the method \"mahalonobis\""
   ]
  },
  {
   "cell_type": "markdown",
   "metadata": {},
   "source": [
    "Let's create a NearestNeighbors object, and use that. First, we may want to read some documentation regarding the NearestNeighbors class:"
   ]
  },
  {
   "cell_type": "code",
   "execution_count": 13,
   "metadata": {},
   "outputs": [],
   "source": [
    "?NearestNeighbors"
   ]
  },
  {
   "cell_type": "code",
   "execution_count": 14,
   "metadata": {},
   "outputs": [],
   "source": [
    "nn = NearestNeighbors(n_neighbors=50)\n",
    "nn.fit(X)\n",
    "distances_to_neighbors = nn.kneighbors()[0]"
   ]
  },
  {
   "cell_type": "markdown",
   "metadata": {},
   "source": [
    "The \"heavy lifting\" was done by the kneighbors() method. \n",
    "It returns the distances to the first N points, and the index of the nearest point \n",
    "\n",
    "\n",
    "As a final step, reduce the distance matrix (size: N points x N neighbours) to scores, one per point (row). \n",
    "Use an appropiate numpy function (ideas are: mean, median, min, max)"
   ]
  },
  {
   "cell_type": "code",
   "execution_count": 15,
   "metadata": {},
   "outputs": [],
   "source": [
    "knn_mean_outlier_scores = np.mean(distances_to_neighbors, axis=1)"
   ]
  },
  {
   "cell_type": "markdown",
   "metadata": {},
   "source": [
    "**Question**: what is an interpretation (say when n_neighbours is 11) for the\n",
    "\n",
    "- median\n",
    "- min\n",
    "- max\n",
    "\n",
    "distance to the n_neighbours?"
   ]
  },
  {
   "cell_type": "markdown",
   "metadata": {},
   "source": [
    "## Isolation Forest algorithm\n",
    "\n",
    "The isolation forest algorithm measures how difficult it is to isolate a point from the rest of the data, using a random splitting algorithm many times. We want to have 1000 estimators (trees), and each estimator to be based on a sample of 1024 points\n",
    "\n",
    "In the cells below: \n",
    "- Create an IsolationForest object with the correct parameters\n",
    "- Fit the IsolationForest object with the data\n",
    "- Get the scores using .score_samples()\n"
   ]
  },
  {
   "cell_type": "code",
   "execution_count": 16,
   "metadata": {},
   "outputs": [],
   "source": [
    "?IsolationForest"
   ]
  },
  {
   "cell_type": "code",
   "execution_count": 17,
   "metadata": {},
   "outputs": [
    {
     "data": {
      "text/plain": [
       "IsolationForest(behaviour='deprecated', bootstrap=False, contamination='auto',\n",
       "                max_features=1.0, max_samples=1024, n_estimators=100,\n",
       "                n_jobs=None, random_state=None, verbose=0, warm_start=False)"
      ]
     },
     "execution_count": 17,
     "metadata": {},
     "output_type": "execute_result"
    }
   ],
   "source": [
    "iforest = IsolationForest(n_estimators=100, max_samples=1024)\n",
    "iforest.fit(X)\n"
   ]
  },
  {
   "cell_type": "markdown",
   "metadata": {},
   "source": [
    "The score as returned by score_samples() is a measure for the number of needed splits to isolate a point. \n",
    "\n",
    "**Question:** Is a high score or a low score an indication for a point being an outlier? \n",
    "Reflect this in your score calculation. \n"
   ]
  },
  {
   "cell_type": "code",
   "execution_count": 18,
   "metadata": {},
   "outputs": [],
   "source": [
    "iforest_outlier_scores = iforest.score_samples(X)"
   ]
  },
  {
   "cell_type": "markdown",
   "metadata": {},
   "source": [
    "##  Autoencoder\n",
    "\n",
    "Autoencoders are a special type of neural networks, that are trained to effectively compress and decompress a signal. The idea behind using these networks for outlier detection, is that the neural network is expected to handle \"typical\" datapoints well, whereas it will struggle with outliers. \n",
    "\n",
    "We use the pyod AutoEncoder class, because this way we don't have to define all details of the neural network architecture, but can specify the main parameters. \n",
    "\n"
   ]
  },
  {
   "cell_type": "code",
   "execution_count": 19,
   "metadata": {},
   "outputs": [],
   "source": [
    "?AutoEncoder"
   ]
  },
  {
   "cell_type": "code",
   "execution_count": 20,
   "metadata": {},
   "outputs": [],
   "source": [
    "X_scaled = MinMaxScaler().fit_transform(X)\n",
    "clf = AutoEncoder(\n",
    "    hidden_neurons=[10, 5, 10], # Choose bottleneck here!\n",
    "    hidden_activation='elu',\n",
    "    output_activation='sigmoid', # Choose an activation ('linear', 'sigmoid', 'relu', 'elu' are some possibilities)\n",
    "    optimizer='adam',\n",
    "    epochs=10,\n",
    "    batch_size=16,\n",
    "    dropout_rate=0.0, #may not be needed here\n",
    "    l2_regularizer=0.0,\n",
    "    validation_size=0.1,\n",
    "    preprocessing=False, #NB: this uses sklearn's StandardScaler\n",
    "    verbose=1,\n",
    "    random_state=1,\n",
    ")"
   ]
  },
  {
   "cell_type": "code",
   "execution_count": 21,
   "metadata": {},
   "outputs": [
    {
     "name": "stdout",
     "output_type": "stream",
     "text": [
      "Model: \"sequential\"\n",
      "_________________________________________________________________\n",
      "Layer (type)                 Output Shape              Param #   \n",
      "=================================================================\n",
      "dense (Dense)                (None, 29)                870       \n",
      "_________________________________________________________________\n",
      "dropout (Dropout)            (None, 29)                0         \n",
      "_________________________________________________________________\n",
      "dense_1 (Dense)              (None, 29)                870       \n",
      "_________________________________________________________________\n",
      "dropout_1 (Dropout)          (None, 29)                0         \n",
      "_________________________________________________________________\n",
      "dense_2 (Dense)              (None, 10)                300       \n",
      "_________________________________________________________________\n",
      "dropout_2 (Dropout)          (None, 10)                0         \n",
      "_________________________________________________________________\n",
      "dense_3 (Dense)              (None, 5)                 55        \n",
      "_________________________________________________________________\n",
      "dropout_3 (Dropout)          (None, 5)                 0         \n",
      "_________________________________________________________________\n",
      "dense_4 (Dense)              (None, 10)                60        \n",
      "_________________________________________________________________\n",
      "dropout_4 (Dropout)          (None, 10)                0         \n",
      "_________________________________________________________________\n",
      "dense_5 (Dense)              (None, 29)                319       \n",
      "=================================================================\n",
      "Total params: 2,474\n",
      "Trainable params: 2,474\n",
      "Non-trainable params: 0\n",
      "_________________________________________________________________\n",
      "None\n",
      "Epoch 1/10\n",
      "1688/1688 [==============================] - 5s 3ms/step - loss: 0.0035 - val_loss: 0.0025\n",
      "Epoch 2/10\n",
      "1688/1688 [==============================] - 4s 2ms/step - loss: 0.0022 - val_loss: 0.0019\n",
      "Epoch 3/10\n",
      "1688/1688 [==============================] - 3s 2ms/step - loss: 0.0017 - val_loss: 0.0017\n",
      "Epoch 4/10\n",
      "1688/1688 [==============================] - 4s 2ms/step - loss: 0.0016 - val_loss: 0.0016\n",
      "Epoch 5/10\n",
      "1688/1688 [==============================] - 3s 2ms/step - loss: 0.0015 - val_loss: 0.0015\n",
      "Epoch 6/10\n",
      "1688/1688 [==============================] - 3s 2ms/step - loss: 0.0014 - val_loss: 0.0014\n",
      "Epoch 7/10\n",
      "1688/1688 [==============================] - 3s 2ms/step - loss: 0.0013 - val_loss: 0.0013\n",
      "Epoch 8/10\n",
      "1688/1688 [==============================] - 3s 2ms/step - loss: 0.0013 - val_loss: 0.0013\n",
      "Epoch 9/10\n",
      "1688/1688 [==============================] - 3s 2ms/step - loss: 0.0013 - val_loss: 0.0013\n",
      "Epoch 10/10\n",
      "1688/1688 [==============================] - 3s 2ms/step - loss: 0.0013 - val_loss: 0.0013\n"
     ]
    },
    {
     "data": {
      "text/plain": [
       "AutoEncoder(batch_size=16, contamination=0.1, dropout_rate=0.0, epochs=10,\n",
       "      hidden_activation='elu', hidden_neurons=[10, 5, 10],\n",
       "      l2_regularizer=0.0,\n",
       "      loss=<function mean_squared_error at 0x7f86fbcc0d40>,\n",
       "      optimizer='adam', output_activation='sigmoid', preprocessing=False,\n",
       "      random_state=1, validation_size=0.1, verbose=1)"
      ]
     },
     "execution_count": 21,
     "metadata": {},
     "output_type": "execute_result"
    }
   ],
   "source": [
    "clf.fit(X_scaled)"
   ]
  },
  {
   "cell_type": "code",
   "execution_count": 22,
   "metadata": {},
   "outputs": [],
   "source": [
    "?clf.decision_scores_"
   ]
  },
  {
   "cell_type": "code",
   "execution_count": 23,
   "metadata": {},
   "outputs": [],
   "source": [
    "autoenc_outlier_scores = clf.decision_scores_"
   ]
  },
  {
   "cell_type": "markdown",
   "metadata": {},
   "source": [
    "**Question**: Why do you think we had to scale the data with a MinMaxScaler?"
   ]
  },
  {
   "cell_type": "markdown",
   "metadata": {},
   "source": [
    "# Plot and compare results\n",
    "\n",
    "In the next section, you will compare how your algorithm did against your \"home-made\" algorithm, using the labels (ground-truth: is a point an outlier or not? In this case: is a transaction fraudulent or not?). \n",
    "Note that this information is usually not available for those problems where we decide to use outlier detection.\n",
    "\n",
    "\n",
    "Look carefully at the plots and assess their meaning. \n",
    "\n"
   ]
  },
  {
   "cell_type": "code",
   "execution_count": 24,
   "metadata": {},
   "outputs": [
    {
     "name": "stdout",
     "output_type": "stream",
     "text": [
      "  % Total    % Received % Xferd  Average Speed   Time    Time     Time  Current\n",
      "                                 Dload  Upload   Total   Spent    Left  Speed\n",
      "100   418  100   418    0     0   1255      0 --:--:-- --:--:-- --:--:--  1251\n",
      "  % Total    % Received % Xferd  Average Speed   Time    Time     Time  Current\n",
      "                                 Dload  Upload   Total   Spent    Left  Speed\n",
      "100 16469  100 16469    0     0  48296      0 --:--:-- --:--:-- --:--:-- 48296\n"
     ]
    }
   ],
   "source": [
    "# Get the labels, and a helper module\n",
    "!curl -O https://raw.githubusercontent.com/DonErnesto/masterclassSFI_2021/main/data/y_unsupervised.csv.zip\n",
    "!curl -O https://raw.githubusercontent.com/DonErnesto/masterclassSFI_2021/main/ml_utils.py\n",
    "y = pd.read_csv('y_unsupervised.csv.zip')['Class']\n"
   ]
  },
  {
   "cell_type": "code",
   "execution_count": 25,
   "metadata": {},
   "outputs": [],
   "source": [
    "from ml_utils import plot_top_N, plot_conditional_distribution"
   ]
  },
  {
   "cell_type": "markdown",
   "metadata": {},
   "source": [
    "### Conditional distributions of the scores, and the AUC metrics\n",
    "\n",
    "(NB: only plot your \"homemade\" score and your own algorithm. "
   ]
  },
  {
   "cell_type": "code",
   "execution_count": 26,
   "metadata": {},
   "outputs": [],
   "source": [
    "# _ = plot_outlier_scores(y.values, np.log1p(homemade_outlier_scores), title='Homemade: ')"
   ]
  },
  {
   "cell_type": "code",
   "execution_count": 27,
   "metadata": {},
   "outputs": [
    {
     "data": {
      "image/png": "[encoded data removed]",
      "text/plain": [
       "<Figure size 432x288 with 1 Axes>"
      ]
     },
     "metadata": {
      "needs_background": "light"
     },
     "output_type": "display_data"
    }
   ],
   "source": [
    "_ = plot_conditional_distribution(y.values, np.log1p(knn_mean_outlier_scores), title='KNN: ')"
   ]
  },
  {
   "cell_type": "code",
   "execution_count": 43,
   "metadata": {},
   "outputs": [
    {
     "data": {
      "image/png": "[encoded data removed]",
      "text/plain": [
       "<Figure size 432x288 with 1 Axes>"
      ]
     },
     "metadata": {
      "needs_background": "light"
     },
     "output_type": "display_data"
    }
   ],
   "source": [
    "_ = plot_conditional_distribution(y.values, -np.log1p(iforest_outlier_scores), title='Isolation Forest: ')"
   ]
  },
  {
   "cell_type": "code",
   "execution_count": 44,
   "metadata": {},
   "outputs": [
    {
     "data": {
      "image/png": "[encoded data removed]",
      "text/plain": [
       "<Figure size 432x288 with 1 Axes>"
      ]
     },
     "metadata": {
      "needs_background": "light"
     },
     "output_type": "display_data"
    }
   ],
   "source": [
    "_ = plot_conditional_distribution(y.values, np.log10(mah_outlier_scores), title='Mahalonobis: ')"
   ]
  },
  {
   "cell_type": "code",
   "execution_count": 45,
   "metadata": {},
   "outputs": [
    {
     "data": {
      "image/png": "[encoded data removed]",
      "text/plain": [
       "<Figure size 432x288 with 1 Axes>"
      ]
     },
     "metadata": {
      "needs_background": "light"
     },
     "output_type": "display_data"
    }
   ],
   "source": [
    "_ = plot_conditional_distribution(y.values, np.log10(autoenc_outlier_scores), title='Autoencoder: ')"
   ]
  },
  {
   "cell_type": "code",
   "execution_count": 46,
   "metadata": {},
   "outputs": [
    {
     "data": {
      "image/png": "[encoded data removed]",
      "text/plain": [
       "<Figure size 432x288 with 1 Axes>"
      ]
     },
     "metadata": {
      "needs_background": "light"
     },
     "output_type": "display_data"
    }
   ],
   "source": [
    "_ = plot_conditional_distribution(y.values, np.log10(gmm_scores - np.min(gmm_scores) + 1), title='GMM: ')"
   ]
  },
  {
   "cell_type": "markdown",
   "metadata": {},
   "source": [
    "### Precision@top-N"
   ]
  },
  {
   "cell_type": "code",
   "execution_count": 47,
   "metadata": {},
   "outputs": [],
   "source": [
    "# _ = plot_top_N(y_true=y, scores=homemade_outlier_scores, N=100)"
   ]
  },
  {
   "cell_type": "code",
   "execution_count": 36,
   "metadata": {},
   "outputs": [
    {
     "data": {
      "image/png": "[encoded data removed]",
      "text/plain": [
       "<Figure size 1152x144 with 2 Axes>"
      ]
     },
     "metadata": {
      "needs_background": "light"
     },
     "output_type": "display_data"
    }
   ],
   "source": [
    "_ = plot_top_N(y_true=y, scores=knn_mean_outlier_scores, N=100)"
   ]
  },
  {
   "cell_type": "code",
   "execution_count": 48,
   "metadata": {},
   "outputs": [
    {
     "data": {
      "image/png": "[encoded data removed]",
      "text/plain": [
       "<Figure size 1152x144 with 2 Axes>"
      ]
     },
     "metadata": {
      "needs_background": "light"
     },
     "output_type": "display_data"
    }
   ],
   "source": [
    "_ = plot_top_N(y_true=y, scores=-iforest_outlier_scores, N=100)"
   ]
  },
  {
   "cell_type": "code",
   "execution_count": 38,
   "metadata": {},
   "outputs": [
    {
     "data": {
      "image/png": "[encoded data removed]",
      "text/plain": [
       "<Figure size 1152x144 with 2 Axes>"
      ]
     },
     "metadata": {
      "needs_background": "light"
     },
     "output_type": "display_data"
    }
   ],
   "source": [
    "_ = plot_top_N(y_true=y, scores=mah_outlier_scores, N=100)"
   ]
  },
  {
   "cell_type": "code",
   "execution_count": 41,
   "metadata": {},
   "outputs": [
    {
     "data": {
      "image/png": "[encoded data removed]",
      "text/plain": [
       "<Figure size 1152x144 with 2 Axes>"
      ]
     },
     "metadata": {
      "needs_background": "light"
     },
     "output_type": "display_data"
    }
   ],
   "source": [
    "_ = plot_top_N(y_true=y, scores=autoenc_outlier_scores, N=100)"
   ]
  },
  {
   "cell_type": "code",
   "execution_count": 42,
   "metadata": {},
   "outputs": [
    {
     "data": {
      "image/png": "[encoded data removed]",
      "text/plain": [
       "<Figure size 1152x144 with 2 Axes>"
      ]
     },
     "metadata": {
      "needs_background": "light"
     },
     "output_type": "display_data"
    }
   ],
   "source": [
    "_ = plot_top_N(y_true=y, scores=gmm_scores, N=100)"
   ]
  },
  {
   "cell_type": "markdown",
   "metadata": {},
   "source": [
    "**Question:** based on the number of positives, what precision do you expect when randomly guessing?"
   ]
  },
  {
   "cell_type": "markdown",
   "metadata": {},
   "source": [
    "# Discussion\n",
    "\n",
    "\n",
    "\n",
    "- How did you construct your home-made outlier model?\n",
    "- How did it perform?\n",
    "- What choices did you make for the outlier algorithm, if any, and why?\n",
    "- Answers to the questions\n"
   ]
  },
  {
   "cell_type": "code",
   "execution_count": null,
   "metadata": {},
   "outputs": [],
   "source": []
  }
 ],
 "metadata": {
  "kernelspec": {
   "display_name": "Python 3",
   "language": "python",
   "name": "python3"
  },
  "language_info": {
   "codemirror_mode": {
    "name": "ipython",
    "version": 3
   },
   "file_extension": ".py",
   "mimetype": "text/x-python",
   "name": "python",
   "nbconvert_exporter": "python",
   "pygments_lexer": "ipython3",
   "version": "3.7.6"
  }
 },
 "nbformat": 4,
 "nbformat_minor": 5
}
