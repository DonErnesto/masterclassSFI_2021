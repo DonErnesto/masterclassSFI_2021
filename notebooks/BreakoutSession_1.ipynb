{
 "cells": [
  {
   "cell_type": "markdown",
   "id": "a4bf84e7",
   "metadata": {},
   "source": [
    "<a href=\"https://colab.research.google.com/github/DonErnesto/masterclassSFI_2021/blob/main/notebooks/BreakoutSession_1.ipynb\" target=\"_parent\"><img src=\"https://colab.research.google.com/assets/colab-badge.svg\" alt=\"Open In Colab\"/></a>"
   ]
  },
  {
   "cell_type": "code",
   "execution_count": null,
   "id": "28907684",
   "metadata": {},
   "outputs": [],
   "source": [
    "## Package installing and data import\n",
    "\n",
    "!curl -O https://raw.githubusercontent.com/DonErnesto/masterclassSFI_2021/main/data/X.csv.zip\n",
    "!curl -O https://raw.githubusercontent.com/DonErnesto/masterclassSFI_2021/main/data/y.csv.zip\n",
    "!curl -O https://raw.githubusercontent.com/DonErnesto/masterclassSFI_2021/main/outlierutils.py\n"
   ]
  },
  {
   "cell_type": "code",
   "execution_count": null,
   "id": "c53e2947",
   "metadata": {},
   "outputs": [],
   "source": [
    "import pandas as pd"
   ]
  },
  {
   "cell_type": "code",
   "execution_count": null,
   "id": "a50c7af5",
   "metadata": {},
   "outputs": [],
   "source": [
    "X = pd.read_csv('X.csv.zip')"
   ]
  },
  {
   "cell_type": "code",
   "execution_count": null,
   "id": "ebab9887",
   "metadata": {},
   "outputs": [],
   "source": [
    "X.head()"
   ]
  },
  {
   "cell_type": "code",
   "execution_count": null,
   "id": "7cd4db94",
   "metadata": {},
   "outputs": [],
   "source": [
    "from sklearn.neighbors import LocalOutlierFactor\n",
    "from sklearn.covariance import MinCovDet, EmpiricalCovariance\n",
    "from sklearn.neighbors import NearestNeighbors\n",
    "from sklearn.ensemble import IsolationForest\n",
    "from sklearn.mixture import GaussianMixture\n"
   ]
  },
  {
   "cell_type": "code",
   "execution_count": null,
   "id": "cd436b68",
   "metadata": {},
   "outputs": [],
   "source": [
    "sys.path.append(r'../.')\n",
    "!pip install seaborn\n",
    "from outlierutils import plot_top_N, plot_outlier_scores"
   ]
  },
  {
   "cell_type": "code",
   "execution_count": null,
   "id": "cda15371",
   "metadata": {},
   "outputs": [],
   "source": [
    "cov_ = EmpiricalCovariance().fit(X)\n",
    "# cov_ = MinCovDet().fit(X) # Robust estimation\n",
    "mahalonobis_scores = cov_.mahalanobis(X)\n"
   ]
  },
  {
   "cell_type": "code",
   "execution_count": null,
   "id": "a5017ce4",
   "metadata": {},
   "outputs": [],
   "source": [
    "mahalonobis_scores = np.log10(mahalonobis_scores)\n",
    "res = plot_outlier_scores(y.values, mahalonobis_scores, bw=0.1, title='Mahalonobis')"
   ]
  },
  {
   "cell_type": "code",
   "execution_count": null,
   "id": "c4520729",
   "metadata": {},
   "outputs": [],
   "source": [
    "res = plot_top_N(y.values, mahalonobis_scores, N=100)"
   ]
  },
  {
   "cell_type": "code",
   "execution_count": null,
   "id": "8fff0304",
   "metadata": {},
   "outputs": [],
   "source": [
    "gmm = GaussianMixture(n_components=5, covariance_type='full', random_state=1) # try also spherical\n",
    "gmm.fit(X, )\n",
    "gmm_scores = - gmm.score_samples(X)"
   ]
  },
  {
   "cell_type": "code",
   "execution_count": null,
   "id": "034beb3a",
   "metadata": {},
   "outputs": [],
   "source": [
    "# gmm_scores = np.clip(gmm_scores, -15, 50)\n",
    "res = plot_outlier_scores(y.values, np.log10(gmm_scores+100), bw=0.1, title='Pen digits, Mahalonobis (GMM)')"
   ]
  },
  {
   "cell_type": "code",
   "execution_count": null,
   "id": "d6ec0245",
   "metadata": {},
   "outputs": [],
   "source": [
    "res = plot_top_N(y.values, gmm_scores, N=100)"
   ]
  },
  {
   "cell_type": "code",
   "execution_count": null,
   "id": "19da8cc5",
   "metadata": {},
   "outputs": [],
   "source": []
  },
  {
   "cell_type": "code",
   "execution_count": null,
   "id": "e90cbcb9",
   "metadata": {},
   "outputs": [],
   "source": []
  },
  {
   "cell_type": "code",
   "execution_count": null,
   "id": "b6de4f6f",
   "metadata": {},
   "outputs": [],
   "source": []
  },
  {
   "cell_type": "code",
   "execution_count": null,
   "id": "f21d010a",
   "metadata": {},
   "outputs": [],
   "source": []
  }
 ],
 "metadata": {
  "kernelspec": {
   "display_name": "Python 3",
   "language": "python",
   "name": "python3"
  },
  "language_info": {
   "codemirror_mode": {
    "name": "ipython",
    "version": 3
   },
   "file_extension": ".py",
   "mimetype": "text/x-python",
   "name": "python",
   "nbconvert_exporter": "python",
   "pygments_lexer": "ipython3",
   "version": "3.7.6"
  }
 },
 "nbformat": 4,
 "nbformat_minor": 5
}
