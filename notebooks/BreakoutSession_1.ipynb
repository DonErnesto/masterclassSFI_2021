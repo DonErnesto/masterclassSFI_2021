{
 "cells": [
  {
   "cell_type": "markdown",
   "id": "d6c5ad36",
   "metadata": {},
   "source": [
    "<a href=\"https://colab.research.google.com/github/DonErnesto/masterclassSFI_2021/blob/master/notebooks/BreakoutSession_1.ipynb\" target=\"_parent\"><img src=\"https://colab.research.google.com/assets/colab-badge.svg\" alt=\"Open In Colab\"/></a>"
   ]
  },
  {
   "cell_type": "code",
   "execution_count": 11,
   "id": "881f1c04",
   "metadata": {},
   "outputs": [
    {
     "name": "stdout",
     "output_type": "stream",
     "text": [
      "  % Total    % Received % Xferd  Average Speed   Time    Time     Time  Current\n",
      "                                 Dload  Upload   Total   Spent    Left  Speed\n",
      "100  107k    0  107k    0     0      0      0 --:--:-- --:--:-- --:--:--     0 0     0   168k      0 --:--:-- --:--:-- --:--:--  168k\n",
      "  % Total    % Received % Xferd  Average Speed   Time    Time     Time  Current\n",
      "                                 Dload  Upload   Total   Spent    Left  Speed\n",
      "100  106k    0  106k    0     0   163k      0 --:--:-- --:--:-- --:--:--  162k\n",
      "  % Total    % Received % Xferd  Average Speed   Time    Time     Time  Current\n",
      "                                 Dload  Upload   Total   Spent    Left  Speed\n",
      "100  233k    0  233k    0     0   296k      0 --:--:-- --:--:-- --:--:--  296k\n"
     ]
    }
   ],
   "source": [
    "## Package installing and data import\n",
    "\n",
    "# Now only load the required files...\n",
    "\n",
    "!curl -O https://github.com/DonErnesto/masterclassSFI_2021/blob/main/data/X.csv.zip\n",
    "!curl -O https://github.com/DonErnesto/masterclassSFI_2021/blob/main/data/y.csv.zip\n",
    "!curl -O https://github.com/DonErnesto/masterclassSFI_2021/blob/main/outlierutils.py\n"
   ]
  },
  {
   "cell_type": "code",
   "execution_count": 8,
   "id": "d7898bdc",
   "metadata": {},
   "outputs": [],
   "source": [
    "import pandas as pd"
   ]
  },
  {
   "cell_type": "code",
   "execution_count": 10,
   "id": "5d6840dd",
   "metadata": {},
   "outputs": [],
   "source": [
    "X = pd.read_csv('X.csv.zip')"
   ]
  },
  {
   "cell_type": "code",
   "execution_count": null,
   "id": "d0ed8adc",
   "metadata": {},
   "outputs": [],
   "source": []
  },
  {
   "cell_type": "code",
   "execution_count": null,
   "id": "78b30358",
   "metadata": {},
   "outputs": [],
   "source": []
  }
 ],
 "metadata": {
  "kernelspec": {
   "display_name": "Python 3",
   "language": "python",
   "name": "python3"
  },
  "language_info": {
   "codemirror_mode": {
    "name": "ipython",
    "version": 3
   },
   "file_extension": ".py",
   "mimetype": "text/x-python",
   "name": "python",
   "nbconvert_exporter": "python",
   "pygments_lexer": "ipython3",
   "version": "3.7.6"
  }
 },
 "nbformat": 4,
 "nbformat_minor": 5
}
