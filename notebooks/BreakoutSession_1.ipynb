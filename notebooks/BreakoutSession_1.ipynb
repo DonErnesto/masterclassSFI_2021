{
 "cells": [
  {
   "cell_type": "markdown",
   "id": "c9252b8f",
   "metadata": {},
   "source": [
    "<a href=\"https://colab.research.google.com/github/DonErnesto/masterclassSFI_2021/blob/master/notebooks/BreakoutSession_1.ipynb\" target=\"_parent\"><img src=\"https://colab.research.google.com/assets/colab-badge.svg\" alt=\"Open In Colab\"/></a>"
   ]
  },
  {
   "cell_type": "code",
   "execution_count": 22,
   "id": "4686d7f8",
   "metadata": {},
   "outputs": [
    {
     "name": "stdout",
     "output_type": "stream",
     "text": [
      "  % Total    % Received % Xferd  Average Speed   Time    Time     Time  Current\n",
      "                                 Dload  Upload   Total   Spent    Left  Speed\n",
      "100 20.6M  100 20.6M    0     0  18.5M      0  0:00:01  0:00:01 --:--:-- 18.5M\n",
      "  % Total    % Received % Xferd  Average Speed   Time    Time     Time  Current\n",
      "                                 Dload  Upload   Total   Spent    Left  Speed\n",
      "100  611k  100  611k    0     0  2297k      0 --:--:-- --:--:-- --:--:-- 2288k\n",
      "  % Total    % Received % Xferd  Average Speed   Time    Time     Time  Current\n",
      "                                 Dload  Upload   Total   Spent    Left  Speed\n",
      "100 12860  100 12860    0     0  32311      0 --:--:-- --:--:-- --:--:-- 32311\n"
     ]
    }
   ],
   "source": [
    "## Package installing and data import\n",
    "\n",
    "!curl -O https://raw.githubusercontent.com/DonErnesto/masterclassSFI_2021/main/data/X.csv.zip\n",
    "!curl -O https://raw.githubusercontent.com/DonErnesto/masterclassSFI_2021/main/data/y.csv.zip\n",
    "!curl -O https://raw.githubusercontent.com/DonErnesto/masterclassSFI_2021/main/outlierutils.py\n"
   ]
  },
  {
   "cell_type": "code",
   "execution_count": 23,
   "id": "a744ac72",
   "metadata": {},
   "outputs": [],
   "source": [
    "import pandas as pd"
   ]
  },
  {
   "cell_type": "code",
   "execution_count": 24,
   "id": "faf75884",
   "metadata": {},
   "outputs": [],
   "source": [
    "X = pd.read_csv('X.csv.zip')"
   ]
  },
  {
   "cell_type": "code",
   "execution_count": 25,
   "id": "ed1168e1",
   "metadata": {},
   "outputs": [
    {
     "data": {
      "text/html": [
       "<div>\n",
       "<style scoped>\n",
       "    .dataframe tbody tr th:only-of-type {\n",
       "        vertical-align: middle;\n",
       "    }\n",
       "\n",
       "    .dataframe tbody tr th {\n",
       "        vertical-align: top;\n",
       "    }\n",
       "\n",
       "    .dataframe thead th {\n",
       "        text-align: right;\n",
       "    }\n",
       "</style>\n",
       "<table border=\"1\" class=\"dataframe\">\n",
       "  <thead>\n",
       "    <tr style=\"text-align: right;\">\n",
       "      <th></th>\n",
       "      <th>Unnamed: 0</th>\n",
       "      <th>V1</th>\n",
       "      <th>V2</th>\n",
       "      <th>V3</th>\n",
       "      <th>V4</th>\n",
       "      <th>V5</th>\n",
       "      <th>V6</th>\n",
       "      <th>V7</th>\n",
       "      <th>V8</th>\n",
       "      <th>V9</th>\n",
       "      <th>...</th>\n",
       "      <th>V20</th>\n",
       "      <th>V21</th>\n",
       "      <th>V22</th>\n",
       "      <th>V23</th>\n",
       "      <th>V24</th>\n",
       "      <th>V25</th>\n",
       "      <th>V26</th>\n",
       "      <th>V27</th>\n",
       "      <th>V28</th>\n",
       "      <th>Amount</th>\n",
       "    </tr>\n",
       "  </thead>\n",
       "  <tbody>\n",
       "    <tr>\n",
       "      <th>0</th>\n",
       "      <td>0</td>\n",
       "      <td>1.3780</td>\n",
       "      <td>-0.01831</td>\n",
       "      <td>0.02579</td>\n",
       "      <td>-0.4705</td>\n",
       "      <td>-1.3590</td>\n",
       "      <td>0.1285</td>\n",
       "      <td>-0.33840</td>\n",
       "      <td>0.0987</td>\n",
       "      <td>1.4680</td>\n",
       "      <td>...</td>\n",
       "      <td>0.3638</td>\n",
       "      <td>0.09080</td>\n",
       "      <td>0.277800</td>\n",
       "      <td>0.46240</td>\n",
       "      <td>-0.6177</td>\n",
       "      <td>-0.1891</td>\n",
       "      <td>2.5370</td>\n",
       "      <td>-0.07275</td>\n",
       "      <td>-0.021060</td>\n",
       "      <td>149.60</td>\n",
       "    </tr>\n",
       "    <tr>\n",
       "      <th>1</th>\n",
       "      <td>1</td>\n",
       "      <td>0.4482</td>\n",
       "      <td>-0.22580</td>\n",
       "      <td>-0.18330</td>\n",
       "      <td>0.4639</td>\n",
       "      <td>1.1910</td>\n",
       "      <td>0.1671</td>\n",
       "      <td>0.06003</td>\n",
       "      <td>0.0851</td>\n",
       "      <td>0.6357</td>\n",
       "      <td>...</td>\n",
       "      <td>-0.2554</td>\n",
       "      <td>-0.16700</td>\n",
       "      <td>-0.638700</td>\n",
       "      <td>-0.08234</td>\n",
       "      <td>1.0650</td>\n",
       "      <td>0.1259</td>\n",
       "      <td>0.1665</td>\n",
       "      <td>0.26600</td>\n",
       "      <td>0.014725</td>\n",
       "      <td>2.69</td>\n",
       "    </tr>\n",
       "    <tr>\n",
       "      <th>2</th>\n",
       "      <td>2</td>\n",
       "      <td>0.3800</td>\n",
       "      <td>0.24800</td>\n",
       "      <td>-0.12134</td>\n",
       "      <td>-2.8900</td>\n",
       "      <td>-1.3580</td>\n",
       "      <td>-0.3276</td>\n",
       "      <td>-0.50340</td>\n",
       "      <td>0.2477</td>\n",
       "      <td>2.3460</td>\n",
       "      <td>...</td>\n",
       "      <td>-1.5150</td>\n",
       "      <td>0.20760</td>\n",
       "      <td>0.771500</td>\n",
       "      <td>1.80100</td>\n",
       "      <td>0.0661</td>\n",
       "      <td>-0.1390</td>\n",
       "      <td>1.7730</td>\n",
       "      <td>-1.34000</td>\n",
       "      <td>-0.059750</td>\n",
       "      <td>378.80</td>\n",
       "    </tr>\n",
       "    <tr>\n",
       "      <th>3</th>\n",
       "      <td>3</td>\n",
       "      <td>-0.8633</td>\n",
       "      <td>-0.10830</td>\n",
       "      <td>1.96600</td>\n",
       "      <td>-1.0600</td>\n",
       "      <td>-0.9663</td>\n",
       "      <td>0.6475</td>\n",
       "      <td>-0.01031</td>\n",
       "      <td>0.3774</td>\n",
       "      <td>-0.6313</td>\n",
       "      <td>...</td>\n",
       "      <td>-1.3870</td>\n",
       "      <td>-0.05496</td>\n",
       "      <td>0.005272</td>\n",
       "      <td>1.24700</td>\n",
       "      <td>0.1782</td>\n",
       "      <td>-0.2219</td>\n",
       "      <td>1.7930</td>\n",
       "      <td>-0.18520</td>\n",
       "      <td>0.061460</td>\n",
       "      <td>123.50</td>\n",
       "    </tr>\n",
       "    <tr>\n",
       "      <th>4</th>\n",
       "      <td>4</td>\n",
       "      <td>0.4030</td>\n",
       "      <td>-0.00943</td>\n",
       "      <td>-0.03820</td>\n",
       "      <td>-0.4514</td>\n",
       "      <td>-1.1580</td>\n",
       "      <td>-0.2060</td>\n",
       "      <td>-0.40720</td>\n",
       "      <td>-0.2705</td>\n",
       "      <td>0.1752</td>\n",
       "      <td>...</td>\n",
       "      <td>0.8180</td>\n",
       "      <td>0.75300</td>\n",
       "      <td>0.798300</td>\n",
       "      <td>0.09595</td>\n",
       "      <td>0.5380</td>\n",
       "      <td>0.5024</td>\n",
       "      <td>1.5490</td>\n",
       "      <td>0.87800</td>\n",
       "      <td>0.215200</td>\n",
       "      <td>70.00</td>\n",
       "    </tr>\n",
       "  </tbody>\n",
       "</table>\n",
       "<p>5 rows × 30 columns</p>\n",
       "</div>"
      ],
      "text/plain": [
       "   Unnamed: 0      V1       V2       V3      V4      V5      V6       V7  \\\n",
       "0           0  1.3780 -0.01831  0.02579 -0.4705 -1.3590  0.1285 -0.33840   \n",
       "1           1  0.4482 -0.22580 -0.18330  0.4639  1.1910  0.1671  0.06003   \n",
       "2           2  0.3800  0.24800 -0.12134 -2.8900 -1.3580 -0.3276 -0.50340   \n",
       "3           3 -0.8633 -0.10830  1.96600 -1.0600 -0.9663  0.6475 -0.01031   \n",
       "4           4  0.4030 -0.00943 -0.03820 -0.4514 -1.1580 -0.2060 -0.40720   \n",
       "\n",
       "       V8      V9  ...     V20      V21       V22      V23     V24     V25  \\\n",
       "0  0.0987  1.4680  ...  0.3638  0.09080  0.277800  0.46240 -0.6177 -0.1891   \n",
       "1  0.0851  0.6357  ... -0.2554 -0.16700 -0.638700 -0.08234  1.0650  0.1259   \n",
       "2  0.2477  2.3460  ... -1.5150  0.20760  0.771500  1.80100  0.0661 -0.1390   \n",
       "3  0.3774 -0.6313  ... -1.3870 -0.05496  0.005272  1.24700  0.1782 -0.2219   \n",
       "4 -0.2705  0.1752  ...  0.8180  0.75300  0.798300  0.09595  0.5380  0.5024   \n",
       "\n",
       "      V26      V27       V28  Amount  \n",
       "0  2.5370 -0.07275 -0.021060  149.60  \n",
       "1  0.1665  0.26600  0.014725    2.69  \n",
       "2  1.7730 -1.34000 -0.059750  378.80  \n",
       "3  1.7930 -0.18520  0.061460  123.50  \n",
       "4  1.5490  0.87800  0.215200   70.00  \n",
       "\n",
       "[5 rows x 30 columns]"
      ]
     },
     "execution_count": 25,
     "metadata": {},
     "output_type": "execute_result"
    }
   ],
   "source": [
    "X.head()"
   ]
  },
  {
   "cell_type": "code",
   "execution_count": null,
   "id": "5b6c6ee0",
   "metadata": {},
   "outputs": [],
   "source": [
    "from sklearn.neighbors import LocalOutlierFactor\n",
    "from sklearn.covariance import MinCovDet, EmpiricalCovariance\n",
    "from sklearn.neighbors import NearestNeighbors\n",
    "from sklearn.ensemble import IsolationForest\n",
    "from sklearn.mixture import GaussianMixture\n"
   ]
  },
  {
   "cell_type": "code",
   "execution_count": null,
   "id": "b61b20ea",
   "metadata": {},
   "outputs": [],
   "source": [
    "sys.path.append(r'../.')\n",
    "!pip install seaborn\n",
    "from outlierutils import plot_top_N, plot_outlier_scores"
   ]
  },
  {
   "cell_type": "code",
   "execution_count": null,
   "id": "078c075d",
   "metadata": {},
   "outputs": [],
   "source": [
    "cov_ = EmpiricalCovariance().fit(X)\n",
    "# cov_ = MinCovDet().fit(X) # Robust estimation\n",
    "mahalonobis_scores = cov_.mahalanobis(X)\n"
   ]
  },
  {
   "cell_type": "code",
   "execution_count": null,
   "id": "fe655962",
   "metadata": {},
   "outputs": [],
   "source": [
    "mahalonobis_scores = np.log10(mahalonobis_scores)\n",
    "res = plot_outlier_scores(y.values, mahalonobis_scores, bw=0.1, title='Mahalonobis')"
   ]
  },
  {
   "cell_type": "code",
   "execution_count": null,
   "id": "8af8b8ac",
   "metadata": {},
   "outputs": [],
   "source": [
    "res = plot_top_N(y.values, mahalonobis_scores, N=100)"
   ]
  },
  {
   "cell_type": "code",
   "execution_count": null,
   "id": "93afea6d",
   "metadata": {},
   "outputs": [],
   "source": [
    "gmm = GaussianMixture(n_components=5, covariance_type='full', random_state=1) # try also spherical\n",
    "gmm.fit(X, )\n",
    "gmm_scores = - gmm.score_samples(X)"
   ]
  },
  {
   "cell_type": "code",
   "execution_count": null,
   "id": "dcbf4835",
   "metadata": {},
   "outputs": [],
   "source": [
    "# gmm_scores = np.clip(gmm_scores, -15, 50)\n",
    "res = plot_outlier_scores(y.values, np.log10(gmm_scores+100), bw=0.1, title='Pen digits, Mahalonobis (GMM)')"
   ]
  },
  {
   "cell_type": "code",
   "execution_count": null,
   "id": "bc310f03",
   "metadata": {},
   "outputs": [],
   "source": [
    "res = plot_top_N(y.values, gmm_scores, N=100)"
   ]
  },
  {
   "cell_type": "code",
   "execution_count": null,
   "id": "4aaef626",
   "metadata": {},
   "outputs": [],
   "source": []
  },
  {
   "cell_type": "code",
   "execution_count": null,
   "id": "db2a6374",
   "metadata": {},
   "outputs": [],
   "source": []
  },
  {
   "cell_type": "code",
   "execution_count": null,
   "id": "4fe00c29",
   "metadata": {},
   "outputs": [],
   "source": []
  },
  {
   "cell_type": "code",
   "execution_count": null,
   "id": "eafd7bdb",
   "metadata": {},
   "outputs": [],
   "source": []
  }
 ],
 "metadata": {
  "kernelspec": {
   "display_name": "Python 3",
   "language": "python",
   "name": "python3"
  },
  "language_info": {
   "codemirror_mode": {
    "name": "ipython",
    "version": 3
   },
   "file_extension": ".py",
   "mimetype": "text/x-python",
   "name": "python",
   "nbconvert_exporter": "python",
   "pygments_lexer": "ipython3",
   "version": "3.7.6"
  }
 },
 "nbformat": 4,
 "nbformat_minor": 5
}
