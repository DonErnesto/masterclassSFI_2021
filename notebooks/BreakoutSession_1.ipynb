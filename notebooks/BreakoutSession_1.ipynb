{
 "cells": [
  {
   "cell_type": "markdown",
   "id": "47ecec73",
   "metadata": {},
   "source": [
    "<a href=\"https://colab.research.google.com/github/DonErnesto/masterclassSFI_2021/blob/master/notebooks/BreakoutSession_1.ipynb\" target=\"_parent\"><img src=\"https://colab.research.google.com/assets/colab-badge.svg\" alt=\"Open In Colab\"/></a>"
   ]
  },
  {
   "cell_type": "code",
   "execution_count": null,
   "id": "d4a7356c",
   "metadata": {},
   "outputs": [],
   "source": [
    "## Package installing and data import\n",
    "\n",
    "# Now only load the required files...\n",
    "\n",
    "!curl -O https://raw.githubusercontent.com/amld/workshop-unsupervised-fraud/master/outlierutils.py\n",
    "!curl -O https://raw.githubusercontent.com/amld/workshop-unsupervised-fraud/master/data/x_kdd.pkl\n"
   ]
  },
  {
   "cell_type": "code",
   "execution_count": null,
   "id": "fa1d8321",
   "metadata": {},
   "outputs": [],
   "source": [
    "https://github.com/DonErnesto/masterclassSFI_2021/blob/7476b514d89e9c98367b9207b159ce4d7e427a85/notebooks/challenge.ipynb"
   ]
  },
  {
   "cell_type": "code",
   "execution_count": null,
   "id": "6a0d4a14",
   "metadata": {},
   "outputs": [],
   "source": []
  },
  {
   "cell_type": "code",
   "execution_count": null,
   "id": "451b9c6a",
   "metadata": {},
   "outputs": [],
   "source": []
  }
 ],
 "metadata": {
  "kernelspec": {
   "display_name": "Python 3",
   "language": "python",
   "name": "python3"
  },
  "language_info": {
   "codemirror_mode": {
    "name": "ipython",
    "version": 3
   },
   "file_extension": ".py",
   "mimetype": "text/x-python",
   "name": "python",
   "nbconvert_exporter": "python",
   "pygments_lexer": "ipython3",
   "version": "3.7.6"
  }
 },
 "nbformat": 4,
 "nbformat_minor": 5
}
