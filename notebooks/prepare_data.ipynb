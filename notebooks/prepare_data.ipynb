{
 "cells": [
  {
   "cell_type": "markdown",
   "id": "bfc8103a",
   "metadata": {},
   "source": [
    "#### Notebook that prepares data for the SFI Masterclass\n",
    "\n",
    "https://www.kaggle.com/mlg-ulb/creditcardfraud\n",
    "\n",
    "Writes to /data (observing that max. size for data in Github is ~100 MB)"
   ]
  },
  {
   "cell_type": "code",
   "execution_count": null,
   "id": "754f7a6b",
   "metadata": {},
   "outputs": [],
   "source": [
    "import os\n",
    "import sys\n",
    "import pandas as pd\n",
    "import random\n",
    "import numpy as np"
   ]
  },
  {
   "cell_type": "code",
   "execution_count": null,
   "id": "f46e0452",
   "metadata": {},
   "outputs": [],
   "source": [
    "N = 30000 # Final number of samples"
   ]
  },
  {
   "cell_type": "code",
   "execution_count": null,
   "id": "eb7e7410",
   "metadata": {},
   "outputs": [],
   "source": [
    "df = pd.read_csv(r'../bigdata/creditcard.csv')"
   ]
  },
  {
   "cell_type": "code",
   "execution_count": null,
   "id": "67b15cc6",
   "metadata": {},
   "outputs": [],
   "source": [
    "# df = df.drop(columns=['Time'])"
   ]
  },
  {
   "cell_type": "code",
   "execution_count": null,
   "id": "8c3c3534",
   "metadata": {},
   "outputs": [],
   "source": [
    "# downsample and obfuscate the data\n",
    "df_sampled = df.sample(N).reset_index(drop=True)\n",
    "df_sampled['Time'] = df.head(N)['Time']"
   ]
  },
  {
   "cell_type": "code",
   "execution_count": null,
   "id": "4984c38e",
   "metadata": {},
   "outputs": [],
   "source": [
    "df_sampled.shape"
   ]
  },
  {
   "cell_type": "code",
   "execution_count": null,
   "id": "0b4bff81",
   "metadata": {},
   "outputs": [],
   "source": [
    "df_sampled = df_sampled.astype('float16')"
   ]
  },
  {
   "cell_type": "code",
   "execution_count": null,
   "id": "52e023d5",
   "metadata": {},
   "outputs": [],
   "source": [
    "original_column_names = list(df_sampled.columns)\n",
    "new_v_columns = [col for col in df_sampled.columns if 'V' in col]\n",
    "random.seed(2)\n",
    "random.shuffle(new_v_columns)\n",
    "df_sampled = df_sampled[['Time', ] + new_v_columns + original_column_names[-2:]]\n",
    "df_sampled.columns = original_column_names"
   ]
  },
  {
   "cell_type": "code",
   "execution_count": null,
   "id": "ec741abd",
   "metadata": {},
   "outputs": [],
   "source": [
    "X = df_sampled.iloc[:, :-1]\n",
    "y = df_sampled.Class.astype(int)"
   ]
  },
  {
   "cell_type": "code",
   "execution_count": null,
   "id": "c922a860",
   "metadata": {},
   "outputs": [],
   "source": [
    "X.to_csv(r'../data/X.csv.zip', compression='zip', index=False)\n",
    "y.to_csv(r'../data/y.csv.zip', compression='zip', index=False)"
   ]
  },
  {
   "cell_type": "code",
   "execution_count": null,
   "id": "96f007bf",
   "metadata": {},
   "outputs": [],
   "source": [
    "X_test = pd.read_csv(r'../data/X.csv.zip')"
   ]
  },
  {
   "cell_type": "code",
   "execution_count": null,
   "id": "79fd8b1b",
   "metadata": {},
   "outputs": [],
   "source": [
    "X_test.head()"
   ]
  },
  {
   "cell_type": "code",
   "execution_count": null,
   "id": "972fbfba",
   "metadata": {},
   "outputs": [],
   "source": [
    "X_test.shape"
   ]
  },
  {
   "cell_type": "code",
   "execution_count": null,
   "id": "909d2c03",
   "metadata": {},
   "outputs": [],
   "source": []
  }
 ],
 "metadata": {
  "kernelspec": {
   "display_name": "Python 3",
   "language": "python",
   "name": "python3"
  },
  "language_info": {
   "codemirror_mode": {
    "name": "ipython",
    "version": 3
   },
   "file_extension": ".py",
   "mimetype": "text/x-python",
   "name": "python",
   "nbconvert_exporter": "python",
   "pygments_lexer": "ipython3",
   "version": "3.7.6"
  }
 },
 "nbformat": 4,
 "nbformat_minor": 5
}
