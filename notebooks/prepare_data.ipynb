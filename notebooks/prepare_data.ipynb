{
 "cells": [
  {
   "cell_type": "markdown",
   "id": "29161248",
   "metadata": {},
   "source": [
    "### Notebook that prepares data for the SFI Masterclass\n",
    "\n",
    "\n",
    "\n",
    "Writes to /data (observing that max. size for data in Github is ~100 MB)"
   ]
  },
  {
   "cell_type": "code",
   "execution_count": 1,
   "id": "05254c04",
   "metadata": {},
   "outputs": [],
   "source": [
    "import os\n",
    "import sys\n",
    "import pandas as pd\n",
    "import random\n",
    "import numpy as np"
   ]
  },
  {
   "cell_type": "markdown",
   "id": "f10b321a",
   "metadata": {},
   "source": [
    "#### Unsupervised: creditcard data\n",
    "\n",
    "https://www.kaggle.com/mlg-ulb/creditcardfraud"
   ]
  },
  {
   "cell_type": "code",
   "execution_count": 2,
   "id": "b8a5a876",
   "metadata": {},
   "outputs": [],
   "source": [
    "N = 30000 # Final number of samples"
   ]
  },
  {
   "cell_type": "code",
   "execution_count": 3,
   "id": "d335fa52",
   "metadata": {},
   "outputs": [],
   "source": [
    "df = pd.read_csv(r'../bigdata/creditcard.csv')"
   ]
  },
  {
   "cell_type": "code",
   "execution_count": 4,
   "id": "8649d942",
   "metadata": {},
   "outputs": [],
   "source": [
    "# df = df.drop(columns=['Time'])"
   ]
  },
  {
   "cell_type": "code",
   "execution_count": 5,
   "id": "2616e62b",
   "metadata": {},
   "outputs": [],
   "source": [
    "# downsample and obfuscate the data\n",
    "df_sampled = df.sample(N).reset_index(drop=True)\n",
    "df_sampled['Time'] = df.head(N)['Time']"
   ]
  },
  {
   "cell_type": "code",
   "execution_count": 6,
   "id": "c4c758d0",
   "metadata": {},
   "outputs": [
    {
     "data": {
      "text/plain": [
       "(30000, 31)"
      ]
     },
     "execution_count": 6,
     "metadata": {},
     "output_type": "execute_result"
    }
   ],
   "source": [
    "df_sampled.shape"
   ]
  },
  {
   "cell_type": "code",
   "execution_count": 7,
   "id": "8b2de0e7",
   "metadata": {},
   "outputs": [],
   "source": [
    "df_sampled = df_sampled.astype('float16')"
   ]
  },
  {
   "cell_type": "code",
   "execution_count": 8,
   "id": "ab98cbf2",
   "metadata": {},
   "outputs": [],
   "source": [
    "original_column_names = list(df_sampled.columns)\n",
    "new_v_columns = [col for col in df_sampled.columns if 'V' in col]\n",
    "random.seed(2)\n",
    "random.shuffle(new_v_columns)\n",
    "df_sampled = df_sampled[['Time', ] + new_v_columns + original_column_names[-2:]]\n",
    "df_sampled.columns = original_column_names"
   ]
  },
  {
   "cell_type": "code",
   "execution_count": 9,
   "id": "688a5a87",
   "metadata": {},
   "outputs": [],
   "source": [
    "X = df_sampled.iloc[:, :-1]\n",
    "y = df_sampled.Class.astype(int)"
   ]
  },
  {
   "cell_type": "code",
   "execution_count": 10,
   "id": "d1a8bb9d",
   "metadata": {},
   "outputs": [],
   "source": [
    "X.to_csv(r'../data/X_unsupervised.csv.zip', compression='zip', index=False)\n",
    "y.to_csv(r'../data/y_unsupervised.csv.zip', compression='zip', index=False)"
   ]
  },
  {
   "cell_type": "code",
   "execution_count": 11,
   "id": "249d615f",
   "metadata": {},
   "outputs": [],
   "source": [
    "X_test = pd.read_csv(r'../data/X_unsupervised.csv.zip')"
   ]
  },
  {
   "cell_type": "code",
   "execution_count": 12,
   "id": "f642c29a",
   "metadata": {},
   "outputs": [
    {
     "data": {
      "text/html": [
       "<div>\n",
       "<style scoped>\n",
       "    .dataframe tbody tr th:only-of-type {\n",
       "        vertical-align: middle;\n",
       "    }\n",
       "\n",
       "    .dataframe tbody tr th {\n",
       "        vertical-align: top;\n",
       "    }\n",
       "\n",
       "    .dataframe thead th {\n",
       "        text-align: right;\n",
       "    }\n",
       "</style>\n",
       "<table border=\"1\" class=\"dataframe\">\n",
       "  <thead>\n",
       "    <tr style=\"text-align: right;\">\n",
       "      <th></th>\n",
       "      <th>Time</th>\n",
       "      <th>V1</th>\n",
       "      <th>V2</th>\n",
       "      <th>V3</th>\n",
       "      <th>V4</th>\n",
       "      <th>V5</th>\n",
       "      <th>V6</th>\n",
       "      <th>V7</th>\n",
       "      <th>V8</th>\n",
       "      <th>V9</th>\n",
       "      <th>...</th>\n",
       "      <th>V20</th>\n",
       "      <th>V21</th>\n",
       "      <th>V22</th>\n",
       "      <th>V23</th>\n",
       "      <th>V24</th>\n",
       "      <th>V25</th>\n",
       "      <th>V26</th>\n",
       "      <th>V27</th>\n",
       "      <th>V28</th>\n",
       "      <th>Amount</th>\n",
       "    </tr>\n",
       "  </thead>\n",
       "  <tbody>\n",
       "    <tr>\n",
       "      <th>0</th>\n",
       "      <td>0.0</td>\n",
       "      <td>-0.7200</td>\n",
       "      <td>0.1262</td>\n",
       "      <td>-0.2262</td>\n",
       "      <td>-0.7573</td>\n",
       "      <td>0.2147</td>\n",
       "      <td>0.3516</td>\n",
       "      <td>1.4450</td>\n",
       "      <td>-0.6830</td>\n",
       "      <td>-0.5464</td>\n",
       "      <td>...</td>\n",
       "      <td>-0.0378</td>\n",
       "      <td>-0.3525</td>\n",
       "      <td>0.6494</td>\n",
       "      <td>-1.0810</td>\n",
       "      <td>-0.39230</td>\n",
       "      <td>-0.14340</td>\n",
       "      <td>-0.6920</td>\n",
       "      <td>0.8833</td>\n",
       "      <td>-0.210200</td>\n",
       "      <td>5.46</td>\n",
       "    </tr>\n",
       "    <tr>\n",
       "      <th>1</th>\n",
       "      <td>0.0</td>\n",
       "      <td>-1.4110</td>\n",
       "      <td>0.3550</td>\n",
       "      <td>-1.0470</td>\n",
       "      <td>0.9326</td>\n",
       "      <td>-1.4970</td>\n",
       "      <td>0.3967</td>\n",
       "      <td>-1.4750</td>\n",
       "      <td>1.0490</td>\n",
       "      <td>-1.7940</td>\n",
       "      <td>...</td>\n",
       "      <td>-0.4248</td>\n",
       "      <td>-0.3650</td>\n",
       "      <td>0.9517</td>\n",
       "      <td>0.5230</td>\n",
       "      <td>0.10830</td>\n",
       "      <td>-0.13880</td>\n",
       "      <td>2.5820</td>\n",
       "      <td>-0.3887</td>\n",
       "      <td>0.009520</td>\n",
       "      <td>52.53</td>\n",
       "    </tr>\n",
       "    <tr>\n",
       "      <th>2</th>\n",
       "      <td>1.0</td>\n",
       "      <td>0.4917</td>\n",
       "      <td>-1.4040</td>\n",
       "      <td>1.0270</td>\n",
       "      <td>0.9020</td>\n",
       "      <td>-0.7363</td>\n",
       "      <td>-0.3188</td>\n",
       "      <td>0.2524</td>\n",
       "      <td>-2.0230</td>\n",
       "      <td>0.4365</td>\n",
       "      <td>...</td>\n",
       "      <td>-1.0470</td>\n",
       "      <td>-0.7330</td>\n",
       "      <td>-0.1733</td>\n",
       "      <td>1.0900</td>\n",
       "      <td>0.56400</td>\n",
       "      <td>-0.55700</td>\n",
       "      <td>-0.0928</td>\n",
       "      <td>1.5810</td>\n",
       "      <td>-0.005043</td>\n",
       "      <td>22.48</td>\n",
       "    </tr>\n",
       "    <tr>\n",
       "      <th>3</th>\n",
       "      <td>1.0</td>\n",
       "      <td>-1.2430</td>\n",
       "      <td>0.2893</td>\n",
       "      <td>-0.7030</td>\n",
       "      <td>0.7340</td>\n",
       "      <td>-0.1942</td>\n",
       "      <td>0.4436</td>\n",
       "      <td>0.3428</td>\n",
       "      <td>-0.1865</td>\n",
       "      <td>-0.1589</td>\n",
       "      <td>...</td>\n",
       "      <td>-2.2770</td>\n",
       "      <td>0.4973</td>\n",
       "      <td>0.7670</td>\n",
       "      <td>-0.3362</td>\n",
       "      <td>-0.00434</td>\n",
       "      <td>0.02498</td>\n",
       "      <td>0.7993</td>\n",
       "      <td>0.4668</td>\n",
       "      <td>0.074460</td>\n",
       "      <td>15.00</td>\n",
       "    </tr>\n",
       "    <tr>\n",
       "      <th>4</th>\n",
       "      <td>2.0</td>\n",
       "      <td>0.2642</td>\n",
       "      <td>0.7010</td>\n",
       "      <td>1.5230</td>\n",
       "      <td>-1.4570</td>\n",
       "      <td>-0.3555</td>\n",
       "      <td>1.1720</td>\n",
       "      <td>-0.7266</td>\n",
       "      <td>-1.4990</td>\n",
       "      <td>-0.5590</td>\n",
       "      <td>...</td>\n",
       "      <td>-1.3620</td>\n",
       "      <td>0.5350</td>\n",
       "      <td>-2.4450</td>\n",
       "      <td>1.5910</td>\n",
       "      <td>0.87200</td>\n",
       "      <td>-0.67870</td>\n",
       "      <td>0.9653</td>\n",
       "      <td>0.1272</td>\n",
       "      <td>0.132400</td>\n",
       "      <td>237.00</td>\n",
       "    </tr>\n",
       "  </tbody>\n",
       "</table>\n",
       "<p>5 rows × 30 columns</p>\n",
       "</div>"
      ],
      "text/plain": [
       "   Time      V1      V2      V3      V4      V5      V6      V7      V8  \\\n",
       "0   0.0 -0.7200  0.1262 -0.2262 -0.7573  0.2147  0.3516  1.4450 -0.6830   \n",
       "1   0.0 -1.4110  0.3550 -1.0470  0.9326 -1.4970  0.3967 -1.4750  1.0490   \n",
       "2   1.0  0.4917 -1.4040  1.0270  0.9020 -0.7363 -0.3188  0.2524 -2.0230   \n",
       "3   1.0 -1.2430  0.2893 -0.7030  0.7340 -0.1942  0.4436  0.3428 -0.1865   \n",
       "4   2.0  0.2642  0.7010  1.5230 -1.4570 -0.3555  1.1720 -0.7266 -1.4990   \n",
       "\n",
       "       V9  ...     V20     V21     V22     V23      V24      V25     V26  \\\n",
       "0 -0.5464  ... -0.0378 -0.3525  0.6494 -1.0810 -0.39230 -0.14340 -0.6920   \n",
       "1 -1.7940  ... -0.4248 -0.3650  0.9517  0.5230  0.10830 -0.13880  2.5820   \n",
       "2  0.4365  ... -1.0470 -0.7330 -0.1733  1.0900  0.56400 -0.55700 -0.0928   \n",
       "3 -0.1589  ... -2.2770  0.4973  0.7670 -0.3362 -0.00434  0.02498  0.7993   \n",
       "4 -0.5590  ... -1.3620  0.5350 -2.4450  1.5910  0.87200 -0.67870  0.9653   \n",
       "\n",
       "      V27       V28  Amount  \n",
       "0  0.8833 -0.210200    5.46  \n",
       "1 -0.3887  0.009520   52.53  \n",
       "2  1.5810 -0.005043   22.48  \n",
       "3  0.4668  0.074460   15.00  \n",
       "4  0.1272  0.132400  237.00  \n",
       "\n",
       "[5 rows x 30 columns]"
      ]
     },
     "execution_count": 12,
     "metadata": {},
     "output_type": "execute_result"
    }
   ],
   "source": [
    "X_test.head()"
   ]
  },
  {
   "cell_type": "code",
   "execution_count": 13,
   "id": "361b0cd9",
   "metadata": {},
   "outputs": [
    {
     "data": {
      "text/plain": [
       "(30000, 30)"
      ]
     },
     "execution_count": 13,
     "metadata": {},
     "output_type": "execute_result"
    }
   ],
   "source": [
    "X_test.shape"
   ]
  }
 ],
 "metadata": {
  "kernelspec": {
   "display_name": "Python 3",
   "language": "python",
   "name": "python3"
  },
  "language_info": {
   "codemirror_mode": {
    "name": "ipython",
    "version": 3
   },
   "file_extension": ".py",
   "mimetype": "text/x-python",
   "name": "python",
   "nbconvert_exporter": "python",
   "pygments_lexer": "ipython3",
   "version": "3.7.6"
  }
 },
 "nbformat": 4,
 "nbformat_minor": 5
}
