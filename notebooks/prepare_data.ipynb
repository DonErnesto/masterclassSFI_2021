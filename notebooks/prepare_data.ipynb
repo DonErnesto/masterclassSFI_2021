{
 "cells": [
  {
   "cell_type": "markdown",
   "id": "ee28c0ea",
   "metadata": {},
   "source": [
    "#### Notebook that prepares data for the SFI Masterclass\n",
    "\n",
    "https://www.kaggle.com/mlg-ulb/creditcardfraud\n",
    "\n",
    "Writes to /data (observing that max. size for data in Github is ~100 MB)"
   ]
  },
  {
   "cell_type": "code",
   "execution_count": null,
   "id": "3c912c81",
   "metadata": {},
   "outputs": [],
   "source": [
    "import os\n",
    "import sys\n",
    "import pandas as pd\n",
    "import random\n",
    "import numpy as np"
   ]
  },
  {
   "cell_type": "code",
   "execution_count": null,
   "id": "954c6679",
   "metadata": {},
   "outputs": [],
   "source": [
    "df = pd.read_csv(r'../bigdata/creditcard.csv')"
   ]
  },
  {
   "cell_type": "code",
   "execution_count": null,
   "id": "4e1448e9",
   "metadata": {},
   "outputs": [],
   "source": [
    "df = df.drop(columns=['Time'])"
   ]
  },
  {
   "cell_type": "code",
   "execution_count": null,
   "id": "7c3bfd4b",
   "metadata": {},
   "outputs": [],
   "source": [
    "# downsample and obfuscate the data\n",
    "df_sampled = df.sample(100000).reset_index(drop=True)\n"
   ]
  },
  {
   "cell_type": "code",
   "execution_count": null,
   "id": "f74883c8",
   "metadata": {},
   "outputs": [],
   "source": [
    "df_sampled = df_sampled.astype('float16')"
   ]
  },
  {
   "cell_type": "code",
   "execution_count": null,
   "id": "01c7bd9d",
   "metadata": {},
   "outputs": [],
   "source": [
    "original_column_names = list(df_sampled.columns)\n",
    "new_v_columns = [col for col in df_sampled.columns if 'V' in col]\n",
    "random.seed(2)\n",
    "random.shuffle(new_v_columns)\n",
    "df_sampled = df[new_v_columns + original_column_names[-2:]]\n",
    "df_sampled.columns = original_column_names"
   ]
  },
  {
   "cell_type": "code",
   "execution_count": null,
   "id": "0ece61c4",
   "metadata": {},
   "outputs": [],
   "source": [
    "X = df_sampled.iloc[:, :-1]\n",
    "y = df_sampled.Class.astype(int)"
   ]
  },
  {
   "cell_type": "code",
   "execution_count": null,
   "id": "e806fba5",
   "metadata": {},
   "outputs": [],
   "source": [
    "X.to_csv(r'../data/X.csv.zip', compression='zip', index=False)\n",
    "y.to_csv(r'../data/y.csv.zip', compression='zip', index=False)"
   ]
  },
  {
   "cell_type": "code",
   "execution_count": null,
   "id": "e96632af",
   "metadata": {},
   "outputs": [],
   "source": [
    "X_test = pd.read_csv(r'../data/X.csv.zip')"
   ]
  },
  {
   "cell_type": "code",
   "execution_count": null,
   "id": "5d8ffa74",
   "metadata": {},
   "outputs": [],
   "source": [
    "X_test.head()"
   ]
  },
  {
   "cell_type": "code",
   "execution_count": null,
   "id": "6a6c41ed",
   "metadata": {},
   "outputs": [],
   "source": []
  }
 ],
 "metadata": {
  "kernelspec": {
   "display_name": "Python 3",
   "language": "python",
   "name": "python3"
  },
  "language_info": {
   "codemirror_mode": {
    "name": "ipython",
    "version": 3
   },
   "file_extension": ".py",
   "mimetype": "text/x-python",
   "name": "python",
   "nbconvert_exporter": "python",
   "pygments_lexer": "ipython3",
   "version": "3.7.6"
  }
 },
 "nbformat": 4,
 "nbformat_minor": 5
}
