{
 "cells": [
  {
   "cell_type": "markdown",
   "id": "c655248e",
   "metadata": {},
   "source": [
    "#### Notebook that prepares data for the SFI Masterclass\n",
    "\n",
    "https://www.kaggle.com/mlg-ulb/creditcardfraud\n",
    "\n",
    "Writes to /data (observing that max. size for data in Github is ~100 MB)"
   ]
  },
  {
   "cell_type": "code",
   "execution_count": null,
   "id": "c360b17e",
   "metadata": {},
   "outputs": [],
   "source": [
    "import os\n",
    "import sys\n",
    "import pandas as pd\n",
    "import random\n",
    "import numpy as np"
   ]
  },
  {
   "cell_type": "code",
   "execution_count": null,
   "id": "a99e9570",
   "metadata": {},
   "outputs": [],
   "source": []
  },
  {
   "cell_type": "code",
   "execution_count": null,
   "id": "e6cbc80e",
   "metadata": {},
   "outputs": [],
   "source": [
    "df = pd.read_csv(r'../bigdata/creditcard.csv')"
   ]
  },
  {
   "cell_type": "code",
   "execution_count": null,
   "id": "ee3ea5ae",
   "metadata": {},
   "outputs": [],
   "source": [
    "df = df.drop(columns=['Time'])"
   ]
  },
  {
   "cell_type": "code",
   "execution_count": null,
   "id": "b24f3d1b",
   "metadata": {},
   "outputs": [],
   "source": [
    "# downsample and obfuscate the data\n",
    "df_sampled = df.sample(100000).reset_index(drop=True)\n"
   ]
  },
  {
   "cell_type": "code",
   "execution_count": null,
   "id": "baf8b028",
   "metadata": {},
   "outputs": [],
   "source": [
    "df_sampled = df_sampled.astype('float16')"
   ]
  },
  {
   "cell_type": "code",
   "execution_count": null,
   "id": "27de1e37",
   "metadata": {},
   "outputs": [],
   "source": [
    "original_column_names = list(df_sampled.columns)\n",
    "new_v_columns = [col for col in df_sampled.columns if 'V' in col]\n",
    "random.seed(2)\n",
    "random.shuffle(new_v_columns)\n",
    "df_sampled = df[new_v_columns + original_column_names[-2:]]\n",
    "df_sampled.columns = original_column_names"
   ]
  },
  {
   "cell_type": "code",
   "execution_count": null,
   "id": "15653ae9",
   "metadata": {},
   "outputs": [],
   "source": [
    "X = df_sampled.iloc[:, :-1]\n",
    "y = df_sampled.Class.astype(int)"
   ]
  },
  {
   "cell_type": "code",
   "execution_count": 100,
   "id": "00f779e4",
   "metadata": {},
   "outputs": [],
   "source": [
    "X.to_csv(r'../data/X.csv', compression=None)\n",
    "y.to_csv(r'../data/y.csv', compression=None)"
   ]
  },
  {
   "cell_type": "code",
   "execution_count": null,
   "id": "cc0f34bf",
   "metadata": {},
   "outputs": [],
   "source": [
    "X_test = pd.read_csv(r'../data/X.csv.zip')"
   ]
  },
  {
   "cell_type": "code",
   "execution_count": null,
   "id": "ec76a5dd",
   "metadata": {},
   "outputs": [],
   "source": [
    "from sklearn.neighbors import LocalOutlierFactor\n",
    "from sklearn.covariance import MinCovDet, EmpiricalCovariance\n",
    "from sklearn.neighbors import NearestNeighbors\n",
    "from sklearn.ensemble import IsolationForest\n",
    "from sklearn.mixture import GaussianMixture\n"
   ]
  },
  {
   "cell_type": "code",
   "execution_count": null,
   "id": "da6685f5",
   "metadata": {},
   "outputs": [],
   "source": [
    "sys.path.append(r'../.')\n",
    "!pip install seaborn\n",
    "from outlierutils import plot_top_N, plot_outlier_scores"
   ]
  },
  {
   "cell_type": "code",
   "execution_count": null,
   "id": "f013859b",
   "metadata": {},
   "outputs": [],
   "source": [
    "cov_ = EmpiricalCovariance().fit(X)\n",
    "# cov_ = MinCovDet().fit(X) # Robust estimation\n",
    "mahalonobis_scores = cov_.mahalanobis(X)\n"
   ]
  },
  {
   "cell_type": "code",
   "execution_count": null,
   "id": "99102274",
   "metadata": {},
   "outputs": [],
   "source": [
    "mahalonobis_scores = np.log10(mahalonobis_scores)\n",
    "res = plot_outlier_scores(y.values, mahalonobis_scores, bw=0.1, title='Mahalonobis')"
   ]
  },
  {
   "cell_type": "code",
   "execution_count": null,
   "id": "36cd4672",
   "metadata": {},
   "outputs": [],
   "source": [
    "res = plot_top_N(y.values, mahalonobis_scores, N=100)"
   ]
  },
  {
   "cell_type": "code",
   "execution_count": null,
   "id": "6078d4c1",
   "metadata": {},
   "outputs": [],
   "source": [
    "gmm = GaussianMixture(n_components=5, covariance_type='full', random_state=1) # try also spherical\n",
    "gmm.fit(X, )\n",
    "gmm_scores = - gmm.score_samples(X)"
   ]
  },
  {
   "cell_type": "code",
   "execution_count": null,
   "id": "bfbfee3b",
   "metadata": {},
   "outputs": [],
   "source": [
    "# gmm_scores = np.clip(gmm_scores, -15, 50)\n",
    "res = plot_outlier_scores(y.values, np.log10(gmm_scores+100), bw=0.1, title='Pen digits, Mahalonobis (GMM)')"
   ]
  },
  {
   "cell_type": "code",
   "execution_count": null,
   "id": "c8b90de4",
   "metadata": {},
   "outputs": [],
   "source": [
    "res = plot_top_N(y.values, gmm_scores, N=100)"
   ]
  }
 ],
 "metadata": {
  "kernelspec": {
   "display_name": "Python 3",
   "language": "python",
   "name": "python3"
  },
  "language_info": {
   "codemirror_mode": {
    "name": "ipython",
    "version": 3
   },
   "file_extension": ".py",
   "mimetype": "text/x-python",
   "name": "python",
   "nbconvert_exporter": "python",
   "pygments_lexer": "ipython3",
   "version": "3.7.6"
  }
 },
 "nbformat": 4,
 "nbformat_minor": 5
}
