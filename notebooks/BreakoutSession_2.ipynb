{
 "cells": [
  {
   "cell_type": "markdown",
   "id": "06800476",
   "metadata": {},
   "source": [
    "<a href=\"https://colab.research.google.com/github/DonErnesto/masterclassSFI_2021/blob/main/notebooks/BreakoutSession_1.ipynb\" target=\"_parent\"><img src=\"https://colab.research.google.com/assets/colab-badge.svg\" alt=\"Open In Colab\"/></a>"
   ]
  },
  {
   "cell_type": "code",
   "execution_count": null,
   "id": "d2a1d1b5",
   "metadata": {},
   "outputs": [],
   "source": [
    "## Package installing and data import\n",
    "\n",
    "!curl -O https://raw.githubusercontent.com/DonErnesto/masterclassSFI_2021/main/data/X.csv.zip\n",
    "!curl -O https://raw.githubusercontent.com/DonErnesto/masterclassSFI_2021/main/data/y.csv.zip\n",
    "!curl -O https://raw.githubusercontent.com/DonErnesto/masterclassSFI_2021/main/outlierutils.py\n"
   ]
  },
  {
   "cell_type": "markdown",
   "id": "33ab2a5c",
   "metadata": {},
   "source": [
    "### Package imports \n",
    "\n",
    "We are using Python as a programming language. Its great advantage for data science purposes lies in the many and extensive open-source packages for data manipulation and machine learning. We will be using pandas for data handling, and scikit-learn (sklearn) for various outlier detection algorithms. \n",
    "\n",
    "Also, we imported a self-made module (outlierutils.py) that will be used for inspecting our results. "
   ]
  },
  {
   "cell_type": "code",
   "execution_count": null,
   "id": "7be63874",
   "metadata": {},
   "outputs": [],
   "source": [
    "import pandas as pd"
   ]
  },
  {
   "cell_type": "markdown",
   "id": "9fece3e4",
   "metadata": {},
   "source": [
    "Next, we will load the data in a so-called DataFrame (a pandas object), and inspect it."
   ]
  },
  {
   "cell_type": "code",
   "execution_count": null,
   "id": "b4e48638",
   "metadata": {},
   "outputs": [],
   "source": [
    "X = pd.read_csv('X.csv.zip')\n",
    "X.head()"
   ]
  },
  {
   "cell_type": "markdown",
   "id": "9552fee1",
   "metadata": {},
   "source": [
    "The data describes credit card transactions, one transaction per row. Only the final column (Amount in USD) has a meaning. \n",
    "\n",
    "As you may notice, all features are numeric. They were compressed and anonymized using a mathematical operation called PCA. In reality, we always have to convert our data to a purely numerical form (however, we generally want to avoid losing touch of the meaning of the attributes, for instance reasons of explainability).\n",
    "\n",
    "In this case, it is advantageous because no pre-processing or interpretation is needed, and we can feed the data directly into any algorithm, which will save us time. \n",
    "\n",
    "Before proceeding, let us determine the dimensions of the DataFrame:"
   ]
  },
  {
   "cell_type": "code",
   "execution_count": null,
   "id": "225f685f",
   "metadata": {},
   "outputs": [],
   "source": [
    "X.shape"
   ]
  },
  {
   "cell_type": "markdown",
   "id": "a0d0ae53",
   "metadata": {},
   "source": [
    "In any realistic situation, we would not have access to labels (otherwise, we would be using a supervised approach) and typically know nothing about the fraction of positives. We will already give one fact away: the fraction of positive labels is 0.17%. "
   ]
  },
  {
   "cell_type": "markdown",
   "id": "10705739",
   "metadata": {},
   "source": [
    "## Assignment 1: Generate your own outlier score\n",
    "We will generate an array with outlier scores, based on your own hand-made logic. \n",
    "\n",
    "#### Step 1: what shape should this array have? (# rows, # columns)\n",
    "\n",
    "#### Step 2: using the .sum(), .max() and .abs() methods, create an outlier score, either by selecting one of the examples below, or by modifying them\n",
    "\n",
    "#### Step 3: verify that the shape is correct\n"
   ]
  },
  {
   "cell_type": "markdown",
   "id": "e82df3d3",
   "metadata": {},
   "source": [
    "## Hints: \n",
    "\n",
    "1. we can select a single column by its name, and multiple columns by .iloc. \n",
    "Let's demonstrate with a smaller dataframe (the first 5 rows):\n"
   ]
  },
  {
   "cell_type": "code",
   "execution_count": null,
   "id": "bcc7f36f",
   "metadata": {},
   "outputs": [],
   "source": [
    "small_df = X.head()\n",
    "# A single column:\n",
    "small_df['Amount']"
   ]
  },
  {
   "cell_type": "code",
   "execution_count": null,
   "id": "9a94876b",
   "metadata": {},
   "outputs": [],
   "source": [
    "# All rows, and the first 5 columns:\n",
    "small_df.iloc[:, :5]"
   ]
  },
  {
   "cell_type": "code",
   "execution_count": null,
   "id": "c145755b",
   "metadata": {},
   "outputs": [],
   "source": [
    "# All rows, all columns except the last 10 ones:\n",
    "small_df.iloc[:, :-10]"
   ]
  },
  {
   "cell_type": "markdown",
   "id": "3f7fb76f",
   "metadata": {},
   "source": [
    "We can use .max(axis=1) and .sum(axis=1) to get the max- and summation over all columns (this reduces the size of the dataframe from m rows x n columns to m rows. \n",
    "\n",
    "Also, we can use .abs() to convert the values to absolute (this doesn't change the size)"
   ]
  },
  {
   "cell_type": "code",
   "execution_count": null,
   "id": "76de5952",
   "metadata": {},
   "outputs": [],
   "source": [
    "small_df.iloc[:, :10].abs()"
   ]
  },
  {
   "cell_type": "markdown",
   "id": "3ebc443a",
   "metadata": {},
   "source": [
    "## Your experiments and work below:"
   ]
  },
  {
   "cell_type": "code",
   "execution_count": null,
   "id": "23281460",
   "metadata": {},
   "outputs": [],
   "source": [
    "# Some examples to make an outlier score below. Uncomment (remove the \"#\") to execute it.\n",
    "# Only the last executed one will be kept\n",
    "\n",
    "homemade_outlier_score = X['Amount']\n",
    "# homemade_outlier_score = X['V1'].abs()\n",
    "# homemade_outlier_score = X.iloc[:, :10].abs().max(axis=1)\n",
    "\n",
    "\n"
   ]
  },
  {
   "cell_type": "code",
   "execution_count": null,
   "id": "e806444a",
   "metadata": {},
   "outputs": [],
   "source": []
  },
  {
   "cell_type": "code",
   "execution_count": null,
   "id": "988bbb7f",
   "metadata": {},
   "outputs": [],
   "source": [
    "# To verify the shape, add .shape to the dataframe and look at the output\n",
    "homemade_outlier_score.shape"
   ]
  },
  {
   "cell_type": "code",
   "execution_count": null,
   "id": "d52bc33c",
   "metadata": {},
   "outputs": [],
   "source": []
  },
  {
   "cell_type": "markdown",
   "id": "90d59eef",
   "metadata": {},
   "source": [
    "## Assignment 2 (10 minutes): Use an outlier algorithm to generate the outlier scores\n",
    "\n",
    "We will use one of the various readily available outlier algorithms to generate scores. \n",
    "\n",
    "In Python, we typically first make an instance of a class (an object), than we perform various tasks (methods) with it. "
   ]
  },
  {
   "cell_type": "code",
   "execution_count": null,
   "id": "b9b4079d",
   "metadata": {},
   "outputs": [],
   "source": [
    "# First, we import some algorithms \n",
    "# from sklearn.neighbors import LocalOutlierFactor\n",
    "!pip install pyod==0.8.8\n",
    "!pip install seaborn==0.11.1\n",
    "\n",
    "from sklearn.covariance import EmpiricalCovariance #, MinCovDet # (MinCovDet may be very slow)\n",
    "from pyod.models.knn import KNN\n",
    "from sklearn.neighbors import NearestNeighbors\n",
    "from sklearn.ensemble import IsolationForest\n",
    "from sklearn.mixture import GaussianMixture"
   ]
  },
  {
   "cell_type": "markdown",
   "id": "7cc9df49",
   "metadata": {},
   "source": [
    "#### Option: Nearest neighbours \n",
    "(uses a lot of time --> I may need to make the dataset smaller)"
   ]
  },
  {
   "cell_type": "markdown",
   "id": "066fb393",
   "metadata": {},
   "source": [
    "Let's create a NearestNeighbors object, and use that. First, we may want to read some documentation regarding the NearestNeighbors class:"
   ]
  },
  {
   "cell_type": "code",
   "execution_count": null,
   "id": "6d062bfc",
   "metadata": {},
   "outputs": [],
   "source": [
    "?NearestNeighbors"
   ]
  },
  {
   "cell_type": "markdown",
   "id": "925bf374",
   "metadata": {},
   "source": [
    "Most default settings seem ok for a start. An interesting parameter to change may however be n_neighbors.\n",
    "\n",
    "Set n_neighbors to a value that seems okay (giving no arguments will get you all default values, as far as defaults are given)"
   ]
  },
  {
   "cell_type": "code",
   "execution_count": null,
   "id": "368c1178",
   "metadata": {},
   "outputs": [],
   "source": [
    "nn = NearestNeighbors(n_neighbors=10)"
   ]
  },
  {
   "cell_type": "markdown",
   "id": "f52098e4",
   "metadata": {},
   "source": [
    "Now we have the object ready to accept data. We can directly fit it on the data using the .fit() method: "
   ]
  },
  {
   "cell_type": "code",
   "execution_count": null,
   "id": "f125fe4f",
   "metadata": {},
   "outputs": [],
   "source": [
    "import time\n",
    "t0 = time.process_time()\n",
    "nn.fit(X.head(30000))\n",
    "kneighbors = nn.kneighbors()[0]\n",
    "duration = time.process_time() - t0\n",
    "print(duration)"
   ]
  },
  {
   "cell_type": "code",
   "execution_count": null,
   "id": "4909f8b1",
   "metadata": {},
   "outputs": [],
   "source": [
    "kneighbors.mean(axis=1)"
   ]
  },
  {
   "cell_type": "code",
   "execution_count": null,
   "id": "6f352426",
   "metadata": {},
   "outputs": [],
   "source": [
    "y = pd.read_csv('y.csv.zip')\n",
    "\n",
    "y.mean()*100"
   ]
  },
  {
   "cell_type": "code",
   "execution_count": null,
   "id": "e5075722",
   "metadata": {},
   "outputs": [],
   "source": [
    "y.head(30000).sum()"
   ]
  },
  {
   "cell_type": "code",
   "execution_count": null,
   "id": "b65b28ab",
   "metadata": {},
   "outputs": [],
   "source": [
    "!pip install seaborn\n",
    "from outlierutils import plot_top_N, plot_outlier_scores"
   ]
  },
  {
   "cell_type": "code",
   "execution_count": null,
   "id": "bc157eb2",
   "metadata": {},
   "outputs": [],
   "source": [
    "cov_ = EmpiricalCovariance().fit(X)\n",
    "# cov_ = MinCovDet().fit(X) # Robust estimation\n",
    "mahalonobis_scores = cov_.mahalanobis(X)\n"
   ]
  },
  {
   "cell_type": "code",
   "execution_count": null,
   "id": "f7499d56",
   "metadata": {},
   "outputs": [],
   "source": [
    "mahalonobis_scores = np.log10(mahalonobis_scores)\n",
    "res = plot_outlier_scores(y.values, mahalonobis_scores, bw=0.1, title='Mahalonobis')"
   ]
  },
  {
   "cell_type": "code",
   "execution_count": null,
   "id": "4aa3cdc0",
   "metadata": {},
   "outputs": [],
   "source": [
    "res = plot_top_N(y.values, mahalonobis_scores, N=100)"
   ]
  },
  {
   "cell_type": "code",
   "execution_count": null,
   "id": "b7c1405c",
   "metadata": {},
   "outputs": [],
   "source": [
    "gmm = GaussianMixture(n_components=5, covariance_type='full', random_state=1) # try also spherical\n",
    "gmm.fit(X, )\n",
    "gmm_scores = - gmm.score_samples(X)"
   ]
  },
  {
   "cell_type": "code",
   "execution_count": null,
   "id": "1c6f708f",
   "metadata": {},
   "outputs": [],
   "source": [
    "# gmm_scores = np.clip(gmm_scores, -15, 50)\n",
    "res = plot_outlier_scores(y.values, np.log10(gmm_scores+100), bw=0.1, title='Pen digits, Mahalonobis (GMM)')"
   ]
  },
  {
   "cell_type": "code",
   "execution_count": null,
   "id": "fb2a6887",
   "metadata": {},
   "outputs": [],
   "source": [
    "res = plot_top_N(y.values, gmm_scores, N=100)"
   ]
  },
  {
   "cell_type": "markdown",
   "id": "ca4692b6",
   "metadata": {},
   "source": [
    "## Assignment 3: Plot and compare results\n"
   ]
  },
  {
   "cell_type": "code",
   "execution_count": null,
   "id": "c3d38ef3",
   "metadata": {},
   "outputs": [],
   "source": []
  },
  {
   "cell_type": "code",
   "execution_count": null,
   "id": "8418c81e",
   "metadata": {},
   "outputs": [],
   "source": []
  },
  {
   "cell_type": "code",
   "execution_count": null,
   "id": "fdbff052",
   "metadata": {},
   "outputs": [],
   "source": []
  },
  {
   "cell_type": "code",
   "execution_count": null,
   "id": "77ba1dff",
   "metadata": {},
   "outputs": [],
   "source": []
  },
  {
   "cell_type": "code",
   "execution_count": null,
   "id": "23516d62",
   "metadata": {},
   "outputs": [],
   "source": []
  },
  {
   "cell_type": "code",
   "execution_count": null,
   "id": "d8144fe2",
   "metadata": {},
   "outputs": [],
   "source": []
  }
 ],
 "metadata": {
  "kernelspec": {
   "display_name": "Python 3",
   "language": "python",
   "name": "python3"
  },
  "language_info": {
   "codemirror_mode": {
    "name": "ipython",
    "version": 3
   },
   "file_extension": ".py",
   "mimetype": "text/x-python",
   "name": "python",
   "nbconvert_exporter": "python",
   "pygments_lexer": "ipython3",
   "version": "3.7.6"
  }
 },
 "nbformat": 4,
 "nbformat_minor": 5
}
