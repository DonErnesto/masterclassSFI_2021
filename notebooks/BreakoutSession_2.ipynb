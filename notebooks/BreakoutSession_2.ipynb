{
 "cells": [
  {
   "cell_type": "markdown",
   "id": "06800476",
   "metadata": {},
   "source": [
    "<a href=\"https://colab.research.google.com/github/DonErnesto/masterclassSFI_2021/blob/main/notebooks/BreakoutSession_1.ipynb\" target=\"_parent\"><img src=\"https://colab.research.google.com/assets/colab-badge.svg\" alt=\"Open In Colab\"/></a>"
   ]
  },
  {
   "cell_type": "code",
   "execution_count": 1,
   "id": "d2a1d1b5",
   "metadata": {},
   "outputs": [
    {
     "name": "stdout",
     "output_type": "stream",
     "text": [
      "  % Total    % Received % Xferd  Average Speed   Time    Time     Time  Current\n",
      "                                 Dload  Upload   Total   Spent    Left  Speed\n",
      "100 20.2M  100 20.2M    0     0  9027k      0  0:00:02  0:00:02 --:--:-- 9027k\n",
      "  % Total    % Received % Xferd  Average Speed   Time    Time     Time  Current\n",
      "                                 Dload  Upload   Total   Spent    Left  Speed\n",
      "100  1956  100  1956    0     0   5669      0 --:--:-- --:--:-- --:--:--  5669\n",
      "  % Total    % Received % Xferd  Average Speed   Time    Time     Time  Current\n",
      "                                 Dload  Upload   Total   Spent    Left  Speed\n",
      "100 12860  100 12860    0     0  39088      0 --:--:-- --:--:-- --:--:-- 38969\n"
     ]
    }
   ],
   "source": [
    "## Package installing and data import\n",
    "\n",
    "!curl -O https://raw.githubusercontent.com/DonErnesto/masterclassSFI_2021/main/data/X.csv.zip\n",
    "!curl -O https://raw.githubusercontent.com/DonErnesto/masterclassSFI_2021/main/data/y.csv.zip\n",
    "!curl -O https://raw.githubusercontent.com/DonErnesto/masterclassSFI_2021/main/outlierutils.py\n"
   ]
  },
  {
   "cell_type": "markdown",
   "id": "4dd59fa3",
   "metadata": {},
   "source": [
    "### Package imports \n",
    "\n",
    "We are using Python as a programming language. Its great advantage for data science purposes lies in the many and extensive open-source packages for data manipulation and machine learning. We will be using pandas for data handling, and scikit-learn (sklearn) for various outlier detection algorithms. \n",
    "\n",
    "Also, we imported a self-made module (outlierutils.py) that will be used for inspecting our results. "
   ]
  },
  {
   "cell_type": "code",
   "execution_count": 25,
   "id": "7be63874",
   "metadata": {},
   "outputs": [],
   "source": [
    "import pandas as pd"
   ]
  },
  {
   "cell_type": "markdown",
   "id": "3f0ab761",
   "metadata": {},
   "source": [
    "Next, we will load the data in a so-called DataFrame (a pandas object), and inspect it."
   ]
  },
  {
   "cell_type": "code",
   "execution_count": 26,
   "id": "b4e48638",
   "metadata": {},
   "outputs": [
    {
     "data": {
      "text/html": [
       "<div>\n",
       "<style scoped>\n",
       "    .dataframe tbody tr th:only-of-type {\n",
       "        vertical-align: middle;\n",
       "    }\n",
       "\n",
       "    .dataframe tbody tr th {\n",
       "        vertical-align: top;\n",
       "    }\n",
       "\n",
       "    .dataframe thead th {\n",
       "        text-align: right;\n",
       "    }\n",
       "</style>\n",
       "<table border=\"1\" class=\"dataframe\">\n",
       "  <thead>\n",
       "    <tr style=\"text-align: right;\">\n",
       "      <th></th>\n",
       "      <th>V1</th>\n",
       "      <th>V2</th>\n",
       "      <th>V3</th>\n",
       "      <th>V4</th>\n",
       "      <th>V5</th>\n",
       "      <th>V6</th>\n",
       "      <th>V7</th>\n",
       "      <th>V8</th>\n",
       "      <th>V9</th>\n",
       "      <th>V10</th>\n",
       "      <th>...</th>\n",
       "      <th>V20</th>\n",
       "      <th>V21</th>\n",
       "      <th>V22</th>\n",
       "      <th>V23</th>\n",
       "      <th>V24</th>\n",
       "      <th>V25</th>\n",
       "      <th>V26</th>\n",
       "      <th>V27</th>\n",
       "      <th>V28</th>\n",
       "      <th>Amount</th>\n",
       "    </tr>\n",
       "  </thead>\n",
       "  <tbody>\n",
       "    <tr>\n",
       "      <th>0</th>\n",
       "      <td>1.3780</td>\n",
       "      <td>-0.01831</td>\n",
       "      <td>0.02579</td>\n",
       "      <td>-0.4705</td>\n",
       "      <td>-1.3590</td>\n",
       "      <td>0.1285</td>\n",
       "      <td>-0.33840</td>\n",
       "      <td>0.0987</td>\n",
       "      <td>1.4680</td>\n",
       "      <td>0.2080</td>\n",
       "      <td>...</td>\n",
       "      <td>0.3638</td>\n",
       "      <td>0.09080</td>\n",
       "      <td>0.277800</td>\n",
       "      <td>0.46240</td>\n",
       "      <td>-0.6177</td>\n",
       "      <td>-0.1891</td>\n",
       "      <td>2.5370</td>\n",
       "      <td>-0.07275</td>\n",
       "      <td>-0.021060</td>\n",
       "      <td>149.60</td>\n",
       "    </tr>\n",
       "    <tr>\n",
       "      <th>1</th>\n",
       "      <td>0.4482</td>\n",
       "      <td>-0.22580</td>\n",
       "      <td>-0.18330</td>\n",
       "      <td>0.4639</td>\n",
       "      <td>1.1910</td>\n",
       "      <td>0.1671</td>\n",
       "      <td>0.06003</td>\n",
       "      <td>0.0851</td>\n",
       "      <td>0.6357</td>\n",
       "      <td>-0.1148</td>\n",
       "      <td>...</td>\n",
       "      <td>-0.2554</td>\n",
       "      <td>-0.16700</td>\n",
       "      <td>-0.638700</td>\n",
       "      <td>-0.08234</td>\n",
       "      <td>1.0650</td>\n",
       "      <td>0.1259</td>\n",
       "      <td>0.1665</td>\n",
       "      <td>0.26600</td>\n",
       "      <td>0.014725</td>\n",
       "      <td>2.69</td>\n",
       "    </tr>\n",
       "    <tr>\n",
       "      <th>2</th>\n",
       "      <td>0.3800</td>\n",
       "      <td>0.24800</td>\n",
       "      <td>-0.12134</td>\n",
       "      <td>-2.8900</td>\n",
       "      <td>-1.3580</td>\n",
       "      <td>-0.3276</td>\n",
       "      <td>-0.50340</td>\n",
       "      <td>0.2477</td>\n",
       "      <td>2.3460</td>\n",
       "      <td>1.1100</td>\n",
       "      <td>...</td>\n",
       "      <td>-1.5150</td>\n",
       "      <td>0.20760</td>\n",
       "      <td>0.771500</td>\n",
       "      <td>1.80100</td>\n",
       "      <td>0.0661</td>\n",
       "      <td>-0.1390</td>\n",
       "      <td>1.7730</td>\n",
       "      <td>-1.34000</td>\n",
       "      <td>-0.059750</td>\n",
       "      <td>378.80</td>\n",
       "    </tr>\n",
       "    <tr>\n",
       "      <th>3</th>\n",
       "      <td>-0.8633</td>\n",
       "      <td>-0.10830</td>\n",
       "      <td>1.96600</td>\n",
       "      <td>-1.0600</td>\n",
       "      <td>-0.9663</td>\n",
       "      <td>0.6475</td>\n",
       "      <td>-0.01031</td>\n",
       "      <td>0.3774</td>\n",
       "      <td>-0.6313</td>\n",
       "      <td>-0.6840</td>\n",
       "      <td>...</td>\n",
       "      <td>-1.3870</td>\n",
       "      <td>-0.05496</td>\n",
       "      <td>0.005272</td>\n",
       "      <td>1.24700</td>\n",
       "      <td>0.1782</td>\n",
       "      <td>-0.2219</td>\n",
       "      <td>1.7930</td>\n",
       "      <td>-0.18520</td>\n",
       "      <td>0.061460</td>\n",
       "      <td>123.50</td>\n",
       "    </tr>\n",
       "    <tr>\n",
       "      <th>4</th>\n",
       "      <td>0.4030</td>\n",
       "      <td>-0.00943</td>\n",
       "      <td>-0.03820</td>\n",
       "      <td>-0.4514</td>\n",
       "      <td>-1.1580</td>\n",
       "      <td>-0.2060</td>\n",
       "      <td>-0.40720</td>\n",
       "      <td>-0.2705</td>\n",
       "      <td>0.1752</td>\n",
       "      <td>-0.2370</td>\n",
       "      <td>...</td>\n",
       "      <td>0.8180</td>\n",
       "      <td>0.75300</td>\n",
       "      <td>0.798300</td>\n",
       "      <td>0.09595</td>\n",
       "      <td>0.5380</td>\n",
       "      <td>0.5024</td>\n",
       "      <td>1.5490</td>\n",
       "      <td>0.87800</td>\n",
       "      <td>0.215200</td>\n",
       "      <td>70.00</td>\n",
       "    </tr>\n",
       "  </tbody>\n",
       "</table>\n",
       "<p>5 rows × 29 columns</p>\n",
       "</div>"
      ],
      "text/plain": [
       "       V1       V2       V3      V4      V5      V6       V7      V8      V9  \\\n",
       "0  1.3780 -0.01831  0.02579 -0.4705 -1.3590  0.1285 -0.33840  0.0987  1.4680   \n",
       "1  0.4482 -0.22580 -0.18330  0.4639  1.1910  0.1671  0.06003  0.0851  0.6357   \n",
       "2  0.3800  0.24800 -0.12134 -2.8900 -1.3580 -0.3276 -0.50340  0.2477  2.3460   \n",
       "3 -0.8633 -0.10830  1.96600 -1.0600 -0.9663  0.6475 -0.01031  0.3774 -0.6313   \n",
       "4  0.4030 -0.00943 -0.03820 -0.4514 -1.1580 -0.2060 -0.40720 -0.2705  0.1752   \n",
       "\n",
       "      V10  ...     V20      V21       V22      V23     V24     V25     V26  \\\n",
       "0  0.2080  ...  0.3638  0.09080  0.277800  0.46240 -0.6177 -0.1891  2.5370   \n",
       "1 -0.1148  ... -0.2554 -0.16700 -0.638700 -0.08234  1.0650  0.1259  0.1665   \n",
       "2  1.1100  ... -1.5150  0.20760  0.771500  1.80100  0.0661 -0.1390  1.7730   \n",
       "3 -0.6840  ... -1.3870 -0.05496  0.005272  1.24700  0.1782 -0.2219  1.7930   \n",
       "4 -0.2370  ...  0.8180  0.75300  0.798300  0.09595  0.5380  0.5024  1.5490   \n",
       "\n",
       "       V27       V28  Amount  \n",
       "0 -0.07275 -0.021060  149.60  \n",
       "1  0.26600  0.014725    2.69  \n",
       "2 -1.34000 -0.059750  378.80  \n",
       "3 -0.18520  0.061460  123.50  \n",
       "4  0.87800  0.215200   70.00  \n",
       "\n",
       "[5 rows x 29 columns]"
      ]
     },
     "execution_count": 26,
     "metadata": {},
     "output_type": "execute_result"
    }
   ],
   "source": [
    "X = pd.read_csv('X.csv.zip')\n",
    "X.head()"
   ]
  },
  {
   "cell_type": "markdown",
   "id": "0903bda9",
   "metadata": {},
   "source": [
    "The data describes credit card transactions, one transaction per row. Only the final column (Amount in USD) has a meaning. \n",
    "\n",
    "As you may notice, all features are numeric. They were compressed and anonymized using a mathematical operation called PCA. In reality, we always have to convert our data to a purely numerical form (however, we generally want to avoid losing touch of the meaning of the attributes, for instance reasons of explainability).\n",
    "\n",
    "In this case, it is advantageous because no pre-processing or interpretation is needed, and we can feed the data directly into any algorithm, which will save us time. \n",
    "\n",
    "Before proceeding, let us determine the dimensions of the DataFrame:"
   ]
  },
  {
   "cell_type": "code",
   "execution_count": 13,
   "id": "b0011d2c",
   "metadata": {},
   "outputs": [
    {
     "data": {
      "text/plain": [
       "(284807, 29)"
      ]
     },
     "execution_count": 13,
     "metadata": {},
     "output_type": "execute_result"
    }
   ],
   "source": [
    "X.shape"
   ]
  },
  {
   "cell_type": "markdown",
   "id": "5d493507",
   "metadata": {},
   "source": [
    "In any realistic situation, we would not have access to labels (otherwise, we would be using a supervised approach) and typically know nothing about the fraction of positives. We will already give one fact away: the fraction of positive labels is 0.17%. "
   ]
  },
  {
   "cell_type": "markdown",
   "id": "25414f8d",
   "metadata": {},
   "source": [
    "## Assignment 1: Generate your own outlier score\n",
    "We will generate an array with outlier scores, based on your own hand-made logic. \n",
    "\n",
    "#### Step 1: what shape should this array have? (# rows, # columns)\n",
    "\n",
    "#### Step 2: using the .sum(), .max() and .abs() methods, create an outlier score, either by selecting one of the examples below, or by modifying them\n",
    "\n",
    "#### Step 3: verify that the shape is correct\n"
   ]
  },
  {
   "cell_type": "markdown",
   "id": "9605e99c",
   "metadata": {},
   "source": [
    "## Hints: \n",
    "\n",
    "1. we can select a single column by its name, and multiple columns by .iloc. \n",
    "Let's demonstrate with a smaller dataframe (the first 5 rows):\n"
   ]
  },
  {
   "cell_type": "code",
   "execution_count": 30,
   "id": "350575e7",
   "metadata": {},
   "outputs": [
    {
     "data": {
      "text/plain": [
       "0    149.60\n",
       "1      2.69\n",
       "2    378.80\n",
       "3    123.50\n",
       "4     70.00\n",
       "Name: Amount, dtype: float64"
      ]
     },
     "execution_count": 30,
     "metadata": {},
     "output_type": "execute_result"
    }
   ],
   "source": [
    "small_df = X.head()\n",
    "# A single column:\n",
    "small_df['Amount']"
   ]
  },
  {
   "cell_type": "code",
   "execution_count": 50,
   "id": "8210e99c",
   "metadata": {},
   "outputs": [
    {
     "data": {
      "text/html": [
       "<div>\n",
       "<style scoped>\n",
       "    .dataframe tbody tr th:only-of-type {\n",
       "        vertical-align: middle;\n",
       "    }\n",
       "\n",
       "    .dataframe tbody tr th {\n",
       "        vertical-align: top;\n",
       "    }\n",
       "\n",
       "    .dataframe thead th {\n",
       "        text-align: right;\n",
       "    }\n",
       "</style>\n",
       "<table border=\"1\" class=\"dataframe\">\n",
       "  <thead>\n",
       "    <tr style=\"text-align: right;\">\n",
       "      <th></th>\n",
       "      <th>V1</th>\n",
       "      <th>V2</th>\n",
       "      <th>V3</th>\n",
       "      <th>V4</th>\n",
       "      <th>V5</th>\n",
       "    </tr>\n",
       "  </thead>\n",
       "  <tbody>\n",
       "    <tr>\n",
       "      <th>0</th>\n",
       "      <td>1.3780</td>\n",
       "      <td>-0.01831</td>\n",
       "      <td>0.02579</td>\n",
       "      <td>-0.4705</td>\n",
       "      <td>-1.3590</td>\n",
       "    </tr>\n",
       "    <tr>\n",
       "      <th>1</th>\n",
       "      <td>0.4482</td>\n",
       "      <td>-0.22580</td>\n",
       "      <td>-0.18330</td>\n",
       "      <td>0.4639</td>\n",
       "      <td>1.1910</td>\n",
       "    </tr>\n",
       "    <tr>\n",
       "      <th>2</th>\n",
       "      <td>0.3800</td>\n",
       "      <td>0.24800</td>\n",
       "      <td>-0.12134</td>\n",
       "      <td>-2.8900</td>\n",
       "      <td>-1.3580</td>\n",
       "    </tr>\n",
       "    <tr>\n",
       "      <th>3</th>\n",
       "      <td>-0.8633</td>\n",
       "      <td>-0.10830</td>\n",
       "      <td>1.96600</td>\n",
       "      <td>-1.0600</td>\n",
       "      <td>-0.9663</td>\n",
       "    </tr>\n",
       "    <tr>\n",
       "      <th>4</th>\n",
       "      <td>0.4030</td>\n",
       "      <td>-0.00943</td>\n",
       "      <td>-0.03820</td>\n",
       "      <td>-0.4514</td>\n",
       "      <td>-1.1580</td>\n",
       "    </tr>\n",
       "  </tbody>\n",
       "</table>\n",
       "</div>"
      ],
      "text/plain": [
       "       V1       V2       V3      V4      V5\n",
       "0  1.3780 -0.01831  0.02579 -0.4705 -1.3590\n",
       "1  0.4482 -0.22580 -0.18330  0.4639  1.1910\n",
       "2  0.3800  0.24800 -0.12134 -2.8900 -1.3580\n",
       "3 -0.8633 -0.10830  1.96600 -1.0600 -0.9663\n",
       "4  0.4030 -0.00943 -0.03820 -0.4514 -1.1580"
      ]
     },
     "execution_count": 50,
     "metadata": {},
     "output_type": "execute_result"
    }
   ],
   "source": [
    "# All rows, and the first 5 columns:\n",
    "small_df.iloc[:, :5]"
   ]
  },
  {
   "cell_type": "code",
   "execution_count": 51,
   "id": "93d91344",
   "metadata": {},
   "outputs": [
    {
     "data": {
      "text/html": [
       "<div>\n",
       "<style scoped>\n",
       "    .dataframe tbody tr th:only-of-type {\n",
       "        vertical-align: middle;\n",
       "    }\n",
       "\n",
       "    .dataframe tbody tr th {\n",
       "        vertical-align: top;\n",
       "    }\n",
       "\n",
       "    .dataframe thead th {\n",
       "        text-align: right;\n",
       "    }\n",
       "</style>\n",
       "<table border=\"1\" class=\"dataframe\">\n",
       "  <thead>\n",
       "    <tr style=\"text-align: right;\">\n",
       "      <th></th>\n",
       "      <th>V1</th>\n",
       "      <th>V2</th>\n",
       "      <th>V3</th>\n",
       "      <th>V4</th>\n",
       "      <th>V5</th>\n",
       "      <th>V6</th>\n",
       "      <th>V7</th>\n",
       "      <th>V8</th>\n",
       "      <th>V9</th>\n",
       "      <th>V10</th>\n",
       "      <th>V11</th>\n",
       "      <th>V12</th>\n",
       "      <th>V13</th>\n",
       "      <th>V14</th>\n",
       "      <th>V15</th>\n",
       "      <th>V16</th>\n",
       "      <th>V17</th>\n",
       "      <th>V18</th>\n",
       "      <th>V19</th>\n",
       "    </tr>\n",
       "  </thead>\n",
       "  <tbody>\n",
       "    <tr>\n",
       "      <th>0</th>\n",
       "      <td>1.3780</td>\n",
       "      <td>-0.01831</td>\n",
       "      <td>0.02579</td>\n",
       "      <td>-0.4705</td>\n",
       "      <td>-1.3590</td>\n",
       "      <td>0.1285</td>\n",
       "      <td>-0.33840</td>\n",
       "      <td>0.0987</td>\n",
       "      <td>1.4680</td>\n",
       "      <td>0.2080</td>\n",
       "      <td>0.2515</td>\n",
       "      <td>0.06696</td>\n",
       "      <td>-0.9910</td>\n",
       "      <td>0.4040</td>\n",
       "      <td>-0.5520</td>\n",
       "      <td>-0.3113</td>\n",
       "      <td>-0.1105</td>\n",
       "      <td>0.13350</td>\n",
       "      <td>0.2396</td>\n",
       "    </tr>\n",
       "    <tr>\n",
       "      <th>1</th>\n",
       "      <td>0.4482</td>\n",
       "      <td>-0.22580</td>\n",
       "      <td>-0.18330</td>\n",
       "      <td>0.4639</td>\n",
       "      <td>1.1910</td>\n",
       "      <td>0.1671</td>\n",
       "      <td>0.06003</td>\n",
       "      <td>0.0851</td>\n",
       "      <td>0.6357</td>\n",
       "      <td>-0.1148</td>\n",
       "      <td>-0.0691</td>\n",
       "      <td>-0.33980</td>\n",
       "      <td>0.4890</td>\n",
       "      <td>-0.1458</td>\n",
       "      <td>1.6120</td>\n",
       "      <td>-0.1438</td>\n",
       "      <td>0.1013</td>\n",
       "      <td>-0.00898</td>\n",
       "      <td>-0.0788</td>\n",
       "    </tr>\n",
       "    <tr>\n",
       "      <th>2</th>\n",
       "      <td>0.3800</td>\n",
       "      <td>0.24800</td>\n",
       "      <td>-0.12134</td>\n",
       "      <td>-2.8900</td>\n",
       "      <td>-1.3580</td>\n",
       "      <td>-0.3276</td>\n",
       "      <td>-0.50340</td>\n",
       "      <td>0.2477</td>\n",
       "      <td>2.3460</td>\n",
       "      <td>1.1100</td>\n",
       "      <td>0.5250</td>\n",
       "      <td>-0.68950</td>\n",
       "      <td>0.7173</td>\n",
       "      <td>-2.2620</td>\n",
       "      <td>0.6245</td>\n",
       "      <td>-0.1659</td>\n",
       "      <td>0.9090</td>\n",
       "      <td>-0.05536</td>\n",
       "      <td>0.7915</td>\n",
       "    </tr>\n",
       "    <tr>\n",
       "      <th>3</th>\n",
       "      <td>-0.8633</td>\n",
       "      <td>-0.10830</td>\n",
       "      <td>1.96600</td>\n",
       "      <td>-1.0600</td>\n",
       "      <td>-0.9663</td>\n",
       "      <td>0.6475</td>\n",
       "      <td>-0.01031</td>\n",
       "      <td>0.3774</td>\n",
       "      <td>-0.6313</td>\n",
       "      <td>-0.6840</td>\n",
       "      <td>-0.2080</td>\n",
       "      <td>-1.17600</td>\n",
       "      <td>0.5080</td>\n",
       "      <td>-1.2320</td>\n",
       "      <td>-0.2264</td>\n",
       "      <td>-0.2878</td>\n",
       "      <td>-0.1903</td>\n",
       "      <td>0.06274</td>\n",
       "      <td>0.2375</td>\n",
       "    </tr>\n",
       "    <tr>\n",
       "      <th>4</th>\n",
       "      <td>0.4030</td>\n",
       "      <td>-0.00943</td>\n",
       "      <td>-0.03820</td>\n",
       "      <td>-0.4514</td>\n",
       "      <td>-1.1580</td>\n",
       "      <td>-0.2060</td>\n",
       "      <td>-0.40720</td>\n",
       "      <td>-0.2705</td>\n",
       "      <td>0.1752</td>\n",
       "      <td>-0.2370</td>\n",
       "      <td>0.4084</td>\n",
       "      <td>0.14120</td>\n",
       "      <td>1.3460</td>\n",
       "      <td>0.8037</td>\n",
       "      <td>-0.8228</td>\n",
       "      <td>-1.1200</td>\n",
       "      <td>-0.1375</td>\n",
       "      <td>0.21950</td>\n",
       "      <td>0.5930</td>\n",
       "    </tr>\n",
       "  </tbody>\n",
       "</table>\n",
       "</div>"
      ],
      "text/plain": [
       "       V1       V2       V3      V4      V5      V6       V7      V8      V9  \\\n",
       "0  1.3780 -0.01831  0.02579 -0.4705 -1.3590  0.1285 -0.33840  0.0987  1.4680   \n",
       "1  0.4482 -0.22580 -0.18330  0.4639  1.1910  0.1671  0.06003  0.0851  0.6357   \n",
       "2  0.3800  0.24800 -0.12134 -2.8900 -1.3580 -0.3276 -0.50340  0.2477  2.3460   \n",
       "3 -0.8633 -0.10830  1.96600 -1.0600 -0.9663  0.6475 -0.01031  0.3774 -0.6313   \n",
       "4  0.4030 -0.00943 -0.03820 -0.4514 -1.1580 -0.2060 -0.40720 -0.2705  0.1752   \n",
       "\n",
       "      V10     V11      V12     V13     V14     V15     V16     V17      V18  \\\n",
       "0  0.2080  0.2515  0.06696 -0.9910  0.4040 -0.5520 -0.3113 -0.1105  0.13350   \n",
       "1 -0.1148 -0.0691 -0.33980  0.4890 -0.1458  1.6120 -0.1438  0.1013 -0.00898   \n",
       "2  1.1100  0.5250 -0.68950  0.7173 -2.2620  0.6245 -0.1659  0.9090 -0.05536   \n",
       "3 -0.6840 -0.2080 -1.17600  0.5080 -1.2320 -0.2264 -0.2878 -0.1903  0.06274   \n",
       "4 -0.2370  0.4084  0.14120  1.3460  0.8037 -0.8228 -1.1200 -0.1375  0.21950   \n",
       "\n",
       "      V19  \n",
       "0  0.2396  \n",
       "1 -0.0788  \n",
       "2  0.7915  \n",
       "3  0.2375  \n",
       "4  0.5930  "
      ]
     },
     "execution_count": 51,
     "metadata": {},
     "output_type": "execute_result"
    }
   ],
   "source": [
    "# All rows, all columns except the last 10 ones:\n",
    "small_df.iloc[:, :-10]"
   ]
  },
  {
   "cell_type": "markdown",
   "id": "15a8af8f",
   "metadata": {},
   "source": [
    "We can use .max(axis=1) and .sum(axis=1) to get the max- and summation over all columns (this reduces the size of the dataframe from m rows x n columns to m rows. \n",
    "\n",
    "Also, we can use .abs() to convert the values to absolute (this doesn't change the size)"
   ]
  },
  {
   "cell_type": "code",
   "execution_count": 52,
   "id": "ac8b669e",
   "metadata": {},
   "outputs": [
    {
     "data": {
      "text/html": [
       "<div>\n",
       "<style scoped>\n",
       "    .dataframe tbody tr th:only-of-type {\n",
       "        vertical-align: middle;\n",
       "    }\n",
       "\n",
       "    .dataframe tbody tr th {\n",
       "        vertical-align: top;\n",
       "    }\n",
       "\n",
       "    .dataframe thead th {\n",
       "        text-align: right;\n",
       "    }\n",
       "</style>\n",
       "<table border=\"1\" class=\"dataframe\">\n",
       "  <thead>\n",
       "    <tr style=\"text-align: right;\">\n",
       "      <th></th>\n",
       "      <th>V1</th>\n",
       "      <th>V2</th>\n",
       "      <th>V3</th>\n",
       "      <th>V4</th>\n",
       "      <th>V5</th>\n",
       "      <th>V6</th>\n",
       "      <th>V7</th>\n",
       "      <th>V8</th>\n",
       "      <th>V9</th>\n",
       "      <th>V10</th>\n",
       "    </tr>\n",
       "  </thead>\n",
       "  <tbody>\n",
       "    <tr>\n",
       "      <th>0</th>\n",
       "      <td>1.3780</td>\n",
       "      <td>0.01831</td>\n",
       "      <td>0.02579</td>\n",
       "      <td>0.4705</td>\n",
       "      <td>1.3590</td>\n",
       "      <td>0.1285</td>\n",
       "      <td>0.33840</td>\n",
       "      <td>0.0987</td>\n",
       "      <td>1.4680</td>\n",
       "      <td>0.2080</td>\n",
       "    </tr>\n",
       "    <tr>\n",
       "      <th>1</th>\n",
       "      <td>0.4482</td>\n",
       "      <td>0.22580</td>\n",
       "      <td>0.18330</td>\n",
       "      <td>0.4639</td>\n",
       "      <td>1.1910</td>\n",
       "      <td>0.1671</td>\n",
       "      <td>0.06003</td>\n",
       "      <td>0.0851</td>\n",
       "      <td>0.6357</td>\n",
       "      <td>0.1148</td>\n",
       "    </tr>\n",
       "    <tr>\n",
       "      <th>2</th>\n",
       "      <td>0.3800</td>\n",
       "      <td>0.24800</td>\n",
       "      <td>0.12134</td>\n",
       "      <td>2.8900</td>\n",
       "      <td>1.3580</td>\n",
       "      <td>0.3276</td>\n",
       "      <td>0.50340</td>\n",
       "      <td>0.2477</td>\n",
       "      <td>2.3460</td>\n",
       "      <td>1.1100</td>\n",
       "    </tr>\n",
       "    <tr>\n",
       "      <th>3</th>\n",
       "      <td>0.8633</td>\n",
       "      <td>0.10830</td>\n",
       "      <td>1.96600</td>\n",
       "      <td>1.0600</td>\n",
       "      <td>0.9663</td>\n",
       "      <td>0.6475</td>\n",
       "      <td>0.01031</td>\n",
       "      <td>0.3774</td>\n",
       "      <td>0.6313</td>\n",
       "      <td>0.6840</td>\n",
       "    </tr>\n",
       "    <tr>\n",
       "      <th>4</th>\n",
       "      <td>0.4030</td>\n",
       "      <td>0.00943</td>\n",
       "      <td>0.03820</td>\n",
       "      <td>0.4514</td>\n",
       "      <td>1.1580</td>\n",
       "      <td>0.2060</td>\n",
       "      <td>0.40720</td>\n",
       "      <td>0.2705</td>\n",
       "      <td>0.1752</td>\n",
       "      <td>0.2370</td>\n",
       "    </tr>\n",
       "  </tbody>\n",
       "</table>\n",
       "</div>"
      ],
      "text/plain": [
       "       V1       V2       V3      V4      V5      V6       V7      V8      V9  \\\n",
       "0  1.3780  0.01831  0.02579  0.4705  1.3590  0.1285  0.33840  0.0987  1.4680   \n",
       "1  0.4482  0.22580  0.18330  0.4639  1.1910  0.1671  0.06003  0.0851  0.6357   \n",
       "2  0.3800  0.24800  0.12134  2.8900  1.3580  0.3276  0.50340  0.2477  2.3460   \n",
       "3  0.8633  0.10830  1.96600  1.0600  0.9663  0.6475  0.01031  0.3774  0.6313   \n",
       "4  0.4030  0.00943  0.03820  0.4514  1.1580  0.2060  0.40720  0.2705  0.1752   \n",
       "\n",
       "      V10  \n",
       "0  0.2080  \n",
       "1  0.1148  \n",
       "2  1.1100  \n",
       "3  0.6840  \n",
       "4  0.2370  "
      ]
     },
     "execution_count": 52,
     "metadata": {},
     "output_type": "execute_result"
    }
   ],
   "source": [
    "small_df.iloc[:, :10].abs()"
   ]
  },
  {
   "cell_type": "markdown",
   "id": "ebd9e786",
   "metadata": {},
   "source": [
    "## Your experiments and work below:"
   ]
  },
  {
   "cell_type": "code",
   "execution_count": 44,
   "id": "23281460",
   "metadata": {},
   "outputs": [],
   "source": [
    "# Some examples to make an outlier score below. Uncomment (remove the \"#\") to execute it.\n",
    "# Only the last executed one will be kept\n",
    "\n",
    "homemade_outlier_score = X['Amount']\n",
    "# homemade_outlier_score = X['V1'].abs()\n",
    "# homemade_outlier_score = X.iloc[:, :10].abs().max(axis=1)\n",
    "\n",
    "\n"
   ]
  },
  {
   "cell_type": "code",
   "execution_count": null,
   "id": "79b4ee62",
   "metadata": {},
   "outputs": [],
   "source": []
  },
  {
   "cell_type": "code",
   "execution_count": 45,
   "id": "dc4d259c",
   "metadata": {},
   "outputs": [
    {
     "data": {
      "text/plain": [
       "(284807,)"
      ]
     },
     "execution_count": 45,
     "metadata": {},
     "output_type": "execute_result"
    }
   ],
   "source": [
    "# To verify the shape, add .shape to the dataframe and look at the output\n",
    "homemade_outlier_score.shape"
   ]
  },
  {
   "cell_type": "code",
   "execution_count": null,
   "id": "bc61bae7",
   "metadata": {},
   "outputs": [],
   "source": []
  },
  {
   "cell_type": "markdown",
   "id": "0994c138",
   "metadata": {},
   "source": [
    "## Assignment 2 (10 minutes): Use an outlier algorithm to generate the outlier scores\n",
    "\n",
    "We will use one of the various readily available outlier algorithms to generate scores. \n",
    "\n",
    "In Python, we typically first make an instance of a class (an object), than we perform various tasks (methods) with it. "
   ]
  },
  {
   "cell_type": "code",
   "execution_count": 71,
   "id": "93b296c1",
   "metadata": {},
   "outputs": [
    {
     "name": "stdout",
     "output_type": "stream",
     "text": [
      "Requirement already satisfied: pyod==0.8.8 in /Users/ernstoldenhof/Projects/MasterclassSFI2021/venv/lib/python3.7/site-packages (0.8.8)\n",
      "Requirement already satisfied: numpy>=1.13 in /Users/ernstoldenhof/Projects/MasterclassSFI2021/venv/lib/python3.7/site-packages (from pyod==0.8.8) (1.20.2)\n",
      "Requirement already satisfied: scipy>=0.19.1 in /Users/ernstoldenhof/Projects/MasterclassSFI2021/venv/lib/python3.7/site-packages (from pyod==0.8.8) (1.6.2)\n",
      "Requirement already satisfied: six in /Users/ernstoldenhof/Projects/MasterclassSFI2021/venv/lib/python3.7/site-packages (from pyod==0.8.8) (1.15.0)\n",
      "Requirement already satisfied: statsmodels in /Users/ernstoldenhof/Projects/MasterclassSFI2021/venv/lib/python3.7/site-packages (from pyod==0.8.8) (0.12.2)\n",
      "Requirement already satisfied: matplotlib in /Users/ernstoldenhof/Projects/MasterclassSFI2021/venv/lib/python3.7/site-packages (from pyod==0.8.8) (3.4.1)\n",
      "Requirement already satisfied: scikit-learn>=0.19.1 in /Users/ernstoldenhof/Projects/MasterclassSFI2021/venv/lib/python3.7/site-packages (from pyod==0.8.8) (0.24.1)\n",
      "Requirement already satisfied: joblib in /Users/ernstoldenhof/Projects/MasterclassSFI2021/venv/lib/python3.7/site-packages (from pyod==0.8.8) (1.0.1)\n",
      "Requirement already satisfied: pandas>=0.25 in /Users/ernstoldenhof/Projects/MasterclassSFI2021/venv/lib/python3.7/site-packages (from pyod==0.8.8) (1.2.3)\n",
      "Requirement already satisfied: numba>=0.35 in /Users/ernstoldenhof/Projects/MasterclassSFI2021/venv/lib/python3.7/site-packages (from pyod==0.8.8) (0.53.1)\n",
      "Requirement already satisfied: llvmlite<0.37,>=0.36.0rc1 in /Users/ernstoldenhof/Projects/MasterclassSFI2021/venv/lib/python3.7/site-packages (from numba>=0.35->pyod==0.8.8) (0.36.0)\n",
      "Requirement already satisfied: setuptools in /Users/ernstoldenhof/Projects/MasterclassSFI2021/venv/lib/python3.7/site-packages (from numba>=0.35->pyod==0.8.8) (54.1.2)\n",
      "Requirement already satisfied: pytz>=2017.3 in /Users/ernstoldenhof/Projects/MasterclassSFI2021/venv/lib/python3.7/site-packages (from pandas>=0.25->pyod==0.8.8) (2021.1)\n",
      "Requirement already satisfied: python-dateutil>=2.7.3 in /Users/ernstoldenhof/Projects/MasterclassSFI2021/venv/lib/python3.7/site-packages (from pandas>=0.25->pyod==0.8.8) (2.8.1)\n",
      "Requirement already satisfied: threadpoolctl>=2.0.0 in /Users/ernstoldenhof/Projects/MasterclassSFI2021/venv/lib/python3.7/site-packages (from scikit-learn>=0.19.1->pyod==0.8.8) (2.1.0)\n",
      "Requirement already satisfied: kiwisolver>=1.0.1 in /Users/ernstoldenhof/Projects/MasterclassSFI2021/venv/lib/python3.7/site-packages (from matplotlib->pyod==0.8.8) (1.3.1)\n",
      "Requirement already satisfied: pyparsing>=2.2.1 in /Users/ernstoldenhof/Projects/MasterclassSFI2021/venv/lib/python3.7/site-packages (from matplotlib->pyod==0.8.8) (2.4.7)\n",
      "Requirement already satisfied: pillow>=6.2.0 in /Users/ernstoldenhof/Projects/MasterclassSFI2021/venv/lib/python3.7/site-packages (from matplotlib->pyod==0.8.8) (8.2.0)\n",
      "Requirement already satisfied: cycler>=0.10 in /Users/ernstoldenhof/Projects/MasterclassSFI2021/venv/lib/python3.7/site-packages (from matplotlib->pyod==0.8.8) (0.10.0)\n",
      "Requirement already satisfied: patsy>=0.5 in /Users/ernstoldenhof/Projects/MasterclassSFI2021/venv/lib/python3.7/site-packages (from statsmodels->pyod==0.8.8) (0.5.1)\n",
      "\u001b[33mWARNING: You are using pip version 21.0.1; however, version 21.1.1 is available.\n",
      "You should consider upgrading via the '/Users/ernstoldenhof/Projects/MasterclassSFI2021/venv/bin/python -m pip install --upgrade pip' command.\u001b[0m\n",
      "Requirement already satisfied: seaborn==0.11.1 in /Users/ernstoldenhof/Projects/MasterclassSFI2021/venv/lib/python3.7/site-packages (0.11.1)\n",
      "Requirement already satisfied: matplotlib>=2.2 in /Users/ernstoldenhof/Projects/MasterclassSFI2021/venv/lib/python3.7/site-packages (from seaborn==0.11.1) (3.4.1)\n",
      "Requirement already satisfied: scipy>=1.0 in /Users/ernstoldenhof/Projects/MasterclassSFI2021/venv/lib/python3.7/site-packages (from seaborn==0.11.1) (1.6.2)\n",
      "Requirement already satisfied: numpy>=1.15 in /Users/ernstoldenhof/Projects/MasterclassSFI2021/venv/lib/python3.7/site-packages (from seaborn==0.11.1) (1.20.2)\n",
      "Requirement already satisfied: pandas>=0.23 in /Users/ernstoldenhof/Projects/MasterclassSFI2021/venv/lib/python3.7/site-packages (from seaborn==0.11.1) (1.2.3)\n",
      "Requirement already satisfied: pillow>=6.2.0 in /Users/ernstoldenhof/Projects/MasterclassSFI2021/venv/lib/python3.7/site-packages (from matplotlib>=2.2->seaborn==0.11.1) (8.2.0)\n",
      "Requirement already satisfied: cycler>=0.10 in /Users/ernstoldenhof/Projects/MasterclassSFI2021/venv/lib/python3.7/site-packages (from matplotlib>=2.2->seaborn==0.11.1) (0.10.0)\n",
      "Requirement already satisfied: kiwisolver>=1.0.1 in /Users/ernstoldenhof/Projects/MasterclassSFI2021/venv/lib/python3.7/site-packages (from matplotlib>=2.2->seaborn==0.11.1) (1.3.1)\n",
      "Requirement already satisfied: pyparsing>=2.2.1 in /Users/ernstoldenhof/Projects/MasterclassSFI2021/venv/lib/python3.7/site-packages (from matplotlib>=2.2->seaborn==0.11.1) (2.4.7)\n",
      "Requirement already satisfied: python-dateutil>=2.7 in /Users/ernstoldenhof/Projects/MasterclassSFI2021/venv/lib/python3.7/site-packages (from matplotlib>=2.2->seaborn==0.11.1) (2.8.1)\n",
      "Requirement already satisfied: six in /Users/ernstoldenhof/Projects/MasterclassSFI2021/venv/lib/python3.7/site-packages (from cycler>=0.10->matplotlib>=2.2->seaborn==0.11.1) (1.15.0)\n",
      "Requirement already satisfied: pytz>=2017.3 in /Users/ernstoldenhof/Projects/MasterclassSFI2021/venv/lib/python3.7/site-packages (from pandas>=0.23->seaborn==0.11.1) (2021.1)\n",
      "\u001b[33mWARNING: You are using pip version 21.0.1; however, version 21.1.1 is available.\n",
      "You should consider upgrading via the '/Users/ernstoldenhof/Projects/MasterclassSFI2021/venv/bin/python -m pip install --upgrade pip' command.\u001b[0m\n"
     ]
    }
   ],
   "source": [
    "# First, we import some algorithms \n",
    "# from sklearn.neighbors import LocalOutlierFactor\n",
    "!pip install pyod==0.8.8\n",
    "!pip install seaborn==0.11.1\n",
    "\n",
    "from sklearn.covariance import EmpiricalCovariance #, MinCovDet # (MinCovDet may be very slow)\n",
    "from pyod.models.knn import KNN\n",
    "from sklearn.neighbors import NearestNeighbors\n",
    "from sklearn.ensemble import IsolationForest\n",
    "from sklearn.mixture import GaussianMixture"
   ]
  },
  {
   "cell_type": "markdown",
   "id": "86583c3d",
   "metadata": {},
   "source": [
    "#### Option: Nearest neighbours \n",
    "(uses a lot of time --> I may need to make the dataset smaller)"
   ]
  },
  {
   "cell_type": "markdown",
   "id": "6153949b",
   "metadata": {},
   "source": [
    "Let's create a NearestNeighbors object, and use that. First, we may want to read some documentation regarding the NearestNeighbors class:"
   ]
  },
  {
   "cell_type": "code",
   "execution_count": 57,
   "id": "8ce858cf",
   "metadata": {},
   "outputs": [],
   "source": [
    "?NearestNeighbors"
   ]
  },
  {
   "cell_type": "markdown",
   "id": "664d881c",
   "metadata": {},
   "source": [
    "Most default settings seem ok for a start. An interesting parameter to change may however be n_neighbors.\n",
    "\n",
    "Set n_neighbors to a value that seems okay (giving no arguments will get you all default values, as far as defaults are given)"
   ]
  },
  {
   "cell_type": "code",
   "execution_count": null,
   "id": "8125ee52",
   "metadata": {},
   "outputs": [],
   "source": [
    "nn = NearestNeighbors(n_neighbors=10)"
   ]
  },
  {
   "cell_type": "markdown",
   "id": "76b48139",
   "metadata": {},
   "source": [
    "Now we have the object ready to accept data. We can directly fit it on the data using the .fit() method: "
   ]
  },
  {
   "cell_type": "code",
   "execution_count": 85,
   "id": "a0c5d9fa",
   "metadata": {},
   "outputs": [
    {
     "name": "stdout",
     "output_type": "stream",
     "text": [
      "28.532253000000026\n"
     ]
    }
   ],
   "source": [
    "import time\n",
    "t0 = time.process_time()\n",
    "nn.fit(X.head(30000))\n",
    "kneighbors = nn.kneighbors()[0]\n",
    "duration = time.process_time() - t0\n",
    "print(duration)"
   ]
  },
  {
   "cell_type": "code",
   "execution_count": 80,
   "id": "05a15d03",
   "metadata": {},
   "outputs": [
    {
     "data": {
      "text/plain": [
       "(50000,)"
      ]
     },
     "execution_count": 80,
     "metadata": {},
     "output_type": "execute_result"
    }
   ],
   "source": [
    "kneighbors.mean(axis=1)"
   ]
  },
  {
   "cell_type": "code",
   "execution_count": 17,
   "id": "b20af202",
   "metadata": {},
   "outputs": [
    {
     "data": {
      "text/plain": [
       "Class    0.172749\n",
       "dtype: float64"
      ]
     },
     "execution_count": 17,
     "metadata": {},
     "output_type": "execute_result"
    }
   ],
   "source": [
    "y = pd.read_csv('y.csv.zip')\n",
    "\n",
    "y.mean()*100"
   ]
  },
  {
   "cell_type": "code",
   "execution_count": 86,
   "id": "dd93fb8a",
   "metadata": {},
   "outputs": [
    {
     "data": {
      "text/plain": [
       "Class    94\n",
       "dtype: int64"
      ]
     },
     "execution_count": 86,
     "metadata": {},
     "output_type": "execute_result"
    }
   ],
   "source": [
    "y.head(30000).sum()"
   ]
  },
  {
   "cell_type": "code",
   "execution_count": null,
   "id": "b65b28ab",
   "metadata": {},
   "outputs": [],
   "source": [
    "!pip install seaborn\n",
    "from outlierutils import plot_top_N, plot_outlier_scores"
   ]
  },
  {
   "cell_type": "code",
   "execution_count": null,
   "id": "bc157eb2",
   "metadata": {},
   "outputs": [],
   "source": [
    "cov_ = EmpiricalCovariance().fit(X)\n",
    "# cov_ = MinCovDet().fit(X) # Robust estimation\n",
    "mahalonobis_scores = cov_.mahalanobis(X)\n"
   ]
  },
  {
   "cell_type": "code",
   "execution_count": null,
   "id": "f7499d56",
   "metadata": {},
   "outputs": [],
   "source": [
    "mahalonobis_scores = np.log10(mahalonobis_scores)\n",
    "res = plot_outlier_scores(y.values, mahalonobis_scores, bw=0.1, title='Mahalonobis')"
   ]
  },
  {
   "cell_type": "code",
   "execution_count": null,
   "id": "4aa3cdc0",
   "metadata": {},
   "outputs": [],
   "source": [
    "res = plot_top_N(y.values, mahalonobis_scores, N=100)"
   ]
  },
  {
   "cell_type": "code",
   "execution_count": null,
   "id": "b7c1405c",
   "metadata": {},
   "outputs": [],
   "source": [
    "gmm = GaussianMixture(n_components=5, covariance_type='full', random_state=1) # try also spherical\n",
    "gmm.fit(X, )\n",
    "gmm_scores = - gmm.score_samples(X)"
   ]
  },
  {
   "cell_type": "code",
   "execution_count": null,
   "id": "1c6f708f",
   "metadata": {},
   "outputs": [],
   "source": [
    "# gmm_scores = np.clip(gmm_scores, -15, 50)\n",
    "res = plot_outlier_scores(y.values, np.log10(gmm_scores+100), bw=0.1, title='Pen digits, Mahalonobis (GMM)')"
   ]
  },
  {
   "cell_type": "code",
   "execution_count": null,
   "id": "fb2a6887",
   "metadata": {},
   "outputs": [],
   "source": [
    "res = plot_top_N(y.values, gmm_scores, N=100)"
   ]
  },
  {
   "cell_type": "markdown",
   "id": "da825eaf",
   "metadata": {},
   "source": [
    "## Assignment 3: Plot and compare results\n"
   ]
  },
  {
   "cell_type": "code",
   "execution_count": null,
   "id": "3230585c",
   "metadata": {},
   "outputs": [],
   "source": []
  },
  {
   "cell_type": "code",
   "execution_count": null,
   "id": "f11a3a6e",
   "metadata": {},
   "outputs": [],
   "source": []
  },
  {
   "cell_type": "code",
   "execution_count": null,
   "id": "38f43738",
   "metadata": {},
   "outputs": [],
   "source": []
  },
  {
   "cell_type": "code",
   "execution_count": null,
   "id": "77ba1dff",
   "metadata": {},
   "outputs": [],
   "source": []
  },
  {
   "cell_type": "code",
   "execution_count": null,
   "id": "23516d62",
   "metadata": {},
   "outputs": [],
   "source": []
  },
  {
   "cell_type": "code",
   "execution_count": null,
   "id": "d8144fe2",
   "metadata": {},
   "outputs": [],
   "source": []
  }
 ],
 "metadata": {
  "kernelspec": {
   "display_name": "Python 3",
   "language": "python",
   "name": "python3"
  },
  "language_info": {
   "codemirror_mode": {
    "name": "ipython",
    "version": 3
   },
   "file_extension": ".py",
   "mimetype": "text/x-python",
   "name": "python",
   "nbconvert_exporter": "python",
   "pygments_lexer": "ipython3",
   "version": "3.7.6"
  }
 },
 "nbformat": 4,
 "nbformat_minor": 5
}
